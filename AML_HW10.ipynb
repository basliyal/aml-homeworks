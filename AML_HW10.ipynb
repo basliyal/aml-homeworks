{
  "nbformat": 4,
  "nbformat_minor": 0,
  "metadata": {
    "colab": {
      "name": "AML_HW10.ipynb",
      "version": "0.3.2",
      "provenance": [],
      "collapsed_sections": [],
      "toc_visible": true,
      "include_colab_link": true
    },
    "language_info": {
      "codemirror_mode": {
        "name": "ipython",
        "version": 3
      },
      "file_extension": ".py",
      "mimetype": "text/x-python",
      "name": "python",
      "nbconvert_exporter": "python",
      "pygments_lexer": "ipython3",
      "version": "3.6.7"
    },
    "kernelspec": {
      "display_name": "Python 3",
      "language": "python",
      "name": "python3"
    },
    "accelerator": "GPU"
  },
  "cells": [
    {
      "cell_type": "markdown",
      "metadata": {
        "id": "view-in-github",
        "colab_type": "text"
      },
      "source": [
        "<a href=\"https://colab.research.google.com/github/ashwinamrutphale/aml-homeworks/blob/master/AML_HW10.ipynb\" target=\"_parent\"><img src=\"https://colab.research.google.com/assets/colab-badge.svg\" alt=\"Open In Colab\"/></a>"
      ]
    },
    {
      "metadata": {
        "colab_type": "text",
        "id": "vUTgGUi4JEft"
      },
      "cell_type": "markdown",
      "source": [
        "# Homework 10 - CIFAR10 Image Classification with PyTorch"
      ]
    },
    {
      "metadata": {
        "colab_type": "text",
        "id": "T5Kx8gJBJEW_"
      },
      "cell_type": "markdown",
      "source": [
        "## About"
      ]
    },
    {
      "metadata": {
        "colab_type": "text",
        "id": "aRAalfd1GITX"
      },
      "cell_type": "markdown",
      "source": [
        "The goal of the homework is to train a convolutional neural network on the standard CIFAR10 image classfication dataset.\n",
        "\n",
        "When solving machine learning tasks using neural networks, one typically starts with a simple network architecture and then improves the network by adding new layers, retraining, adjusting parameters, retraining, etc.  We attempt to illustrate this process below with several architecture improvements.\n"
      ]
    },
    {
      "metadata": {
        "colab_type": "text",
        "id": "OCl5gakxJes-"
      },
      "cell_type": "markdown",
      "source": [
        "## Dev Environment\n",
        "### Working on Google Colab\n",
        "You may choose to work locally or on Google Colaboratory. You have access to free compute through this service.   Colab is recommended since it will be setup correctly and will have access to GPU resources.\n",
        "1. Visit https://colab.research.google.com/drive \n",
        "2. Navigate to the **`Upload`** tab, and upload your `HW10.ipynb`\n",
        "3. Now on the top right corner, under the `Comment` and `Share` options, you should see a `Connect` option. Once you are connected, you will have access to a VM with 12GB RAM, 50 GB disk space and a single GPU. The dropdown menu will allow you to connect to a local runtime as well.\n",
        "\n",
        "**Notes:** \n",
        "* **If you do not have a working setup for Python 3, this is your best bet. It will also save you from heavy installations like `tensorflow` if you don't want to deal with those.**\n",
        "* ***There is a downside*. You can only use this instance for a single 12-hour stretch, after which your data will be deleted, and you would have redownload all your datasets, any libraries not already on the VM, and regenerate your logs**.\n",
        "\n",
        "\n",
        "### Installing PyTorch and Dependencies\n",
        "\n",
        "The instructions for installing and setting up PyTorch can be found at https://pytorch.org/get-started/locally/. Make sure you follow the instructions for your machine. For any of the remaining libraries used in this assignment:\n",
        "* We have provided a `hw8_requirements.txt` file on the homework web page. \n",
        "* Download this file, and in the same directory you can run `pip3 install -r hw8_requirements.txt`\n",
        "​\n",
        "Check that PyTorch installed correctly by running the following:"
      ]
    },
    {
      "metadata": {
        "colab_type": "code",
        "id": "IaJ6BLrAJeCU",
        "colab": {
          "base_uri": "https://localhost:8080/",
          "height": 102
        },
        "outputId": "9bf99bab-6554-4d54-c687-57dace9ea0f1"
      },
      "cell_type": "code",
      "source": [
        "import torch\n",
        "torch.rand(5, 3)"
      ],
      "execution_count": 1,
      "outputs": [
        {
          "output_type": "execute_result",
          "data": {
            "text/plain": [
              "tensor([[0.3524, 0.7770, 0.8042],\n",
              "        [0.6089, 0.1814, 0.6958],\n",
              "        [0.3939, 0.9104, 0.0542],\n",
              "        [0.1758, 0.4446, 0.1832],\n",
              "        [0.7832, 0.7797, 0.2218]])"
            ]
          },
          "metadata": {
            "tags": []
          },
          "execution_count": 1
        }
      ]
    },
    {
      "metadata": {
        "colab_type": "text",
        "id": "nEmmCk1IJiGn"
      },
      "cell_type": "markdown",
      "source": [
        "## Part 0 Imports and Basic Setup  (5 Points)"
      ]
    },
    {
      "metadata": {
        "colab_type": "text",
        "id": "Y3mTddKuXPBU"
      },
      "cell_type": "markdown",
      "source": [
        "First, import the required libraries as follows. The libraries we will use will be the same as those in HW8. "
      ]
    },
    {
      "metadata": {
        "colab_type": "code",
        "id": "UwtDsq3VbrNY",
        "colab": {}
      },
      "cell_type": "code",
      "source": [
        "import numpy as np\n",
        "import torch\n",
        "from torch import nn\n",
        "from torch import optim\n",
        "\n",
        "import matplotlib.pyplot as plt"
      ],
      "execution_count": 0,
      "outputs": []
    },
    {
      "metadata": {
        "colab_type": "text",
        "id": "QWKp_UGlWTyR"
      },
      "cell_type": "markdown",
      "source": [
        "**GPU Support**\n",
        "\n",
        "Training of large network can take a long time. PyTorch supports GPU with just a small amount of effort.\n",
        "\n",
        "When creating our networks, we will call \n",
        "`net.to(device)` to tell the network to train on the GPU, if one is available.  Note, if the network utilizes the GPU, it is important that any tensors we use with it (such as the data) also reside on the CPU.  Thus, a call like `images = images.to(device)` is necessary with any data we want to use with the GPU.\n",
        "\n",
        "Note: If you can't get access to a GPU, don't worry to much.  Since we use very small networks, the difference between CPU and GPU isn't large and in some cases GPU will actually be slower."
      ]
    },
    {
      "metadata": {
        "colab_type": "code",
        "id": "gbGGmnIXYca9",
        "colab": {
          "base_uri": "https://localhost:8080/",
          "height": 34
        },
        "outputId": "823f6d1e-e219-4ebe-fcfc-6a3d826edcfe"
      },
      "cell_type": "code",
      "source": [
        "import torch.cuda as cuda\n",
        "\n",
        "# Use a GPU, i.e. cuda:0 device if it available.\n",
        "device = torch.device(\"cuda:0\" if cuda.is_available() else \"cpu\")\n",
        "print(device)"
      ],
      "execution_count": 3,
      "outputs": [
        {
          "output_type": "stream",
          "text": [
            "cuda:0\n"
          ],
          "name": "stdout"
        }
      ]
    },
    {
      "metadata": {
        "id": "07RjQbhF1tiK",
        "colab_type": "text"
      },
      "cell_type": "markdown",
      "source": [
        "### Training Code"
      ]
    },
    {
      "metadata": {
        "cellView": "form",
        "colab_type": "code",
        "id": "_DZm8ammPCbL",
        "colab": {}
      },
      "cell_type": "code",
      "source": [
        "import time\n",
        "\n",
        "class Flatten(nn.Module):\n",
        "  \"\"\"NN Module that flattens the incoming tensor.\"\"\"\n",
        "  def forward(self, input):\n",
        "    return input.view(input.size(0), -1)\n",
        "  \n",
        "def train(model, train_loader, test_loader, loss_func, opt, num_epochs=10):\n",
        "  all_training_loss = np.zeros((0,2))\n",
        "  all_training_acc = np.zeros((0,2))\n",
        "  all_test_loss = np.zeros((0,2))\n",
        "  all_test_acc = np.zeros((0,2))\n",
        "  \n",
        "  training_step = 0\n",
        "  training_loss, training_acc = 2.0, 0.0\n",
        "  print_every = 1000\n",
        "  \n",
        "  start = time.clock()\n",
        "  \n",
        "  for i in range(num_epochs):\n",
        "    epoch_start = time.clock() \n",
        "   \n",
        "    model.train()\n",
        "    for images, labels in train_loader:\n",
        "      images, labels = images.to(device), labels.to(device)\n",
        "      opt.zero_grad()\n",
        "\n",
        "      preds = model(images)\n",
        "      loss = loss_func(preds, labels)\n",
        "      loss.backward()\n",
        "      opt.step()\n",
        "      \n",
        "      training_loss += loss.item()\n",
        "      training_acc += (torch.argmax(preds, dim=1)==labels).float().mean()\n",
        "      \n",
        "      if training_step % print_every == 0:\n",
        "        training_loss /= print_every\n",
        "        training_acc /= print_every\n",
        "        \n",
        "        all_training_loss = np.concatenate((all_training_loss, [[training_step, training_loss]]))\n",
        "        all_training_acc = np.concatenate((all_training_acc, [[training_step, training_acc]]))\n",
        "        \n",
        "        print('  Epoch %d @ step %d: Train Loss: %3f, Train Accuracy: %3f' % (\n",
        "            i, training_step, training_loss, training_acc))\n",
        "        training_loss, training_acc = 0.0, 0.0\n",
        "        \n",
        "      training_step+=1\n",
        "\n",
        "    model.eval()\n",
        "    with torch.no_grad():\n",
        "      validation_loss, validation_acc = 0.0, 0.0\n",
        "      count = 0\n",
        "      for images, labels in test_loader:\n",
        "        images, labels = images.to(device), labels.to(device)\n",
        "        output = model(images)\n",
        "        validation_loss+=loss_func(output,labels)\n",
        "        validation_acc+=(torch.argmax(output, dim=1) == labels).float().mean()\n",
        "        count += 1\n",
        "      validation_loss/=count\n",
        "      validation_acc/=count\n",
        "      \n",
        "      all_test_loss = np.concatenate((all_test_loss, [[training_step, validation_loss]]))\n",
        "      all_test_acc = np.concatenate((all_test_acc, [[training_step, validation_acc]]))\n",
        "      \n",
        "      epoch_time = time.clock() - epoch_start\n",
        "      \n",
        "      print('Epoch %d Test Loss: %3f, Test Accuracy: %3f, time: %.1fs' % (\n",
        "          i, validation_loss, validation_acc, epoch_time))\n",
        "      \n",
        "  total_time = time.clock() - start\n",
        "  print('Final Test Loss: %3f, Test Accuracy: %3f, Total time: %.1fs' % (\n",
        "      validation_loss, validation_acc, total_time))\n",
        "\n",
        "  return {'loss': { 'train': all_training_loss, 'test': all_test_loss },\n",
        "          'accuracy': { 'train': all_training_acc, 'test': all_test_acc }}\n",
        "\n",
        "def plot_graphs(model_name, metrics):\n",
        "  for metric, values in metrics.items():\n",
        "    for name, v in values.items():\n",
        "      plt.plot(v[:,0], v[:,1], label=name)\n",
        "    plt.title(f'{metric} for {model_name}')\n",
        "    plt.legend()\n",
        "    plt.xlabel(\"Training Steps\")\n",
        "    plt.ylabel(metric)\n",
        "    plt.show()\n",
        "    "
      ],
      "execution_count": 0,
      "outputs": []
    },
    {
      "metadata": {
        "colab_type": "text",
        "id": "1RupXQbCaXb3"
      },
      "cell_type": "markdown",
      "source": [
        "Load the** CIFA-10** dataset and define the transformations. You may also want to print its structure, size, as well as sample a few images to get a sense of how to design the network. "
      ]
    },
    {
      "metadata": {
        "colab_type": "code",
        "id": "mIJmLIgaZ_d3",
        "colab": {}
      },
      "cell_type": "code",
      "source": [
        "!mkdir hw10_data"
      ],
      "execution_count": 0,
      "outputs": []
    },
    {
      "metadata": {
        "colab_type": "code",
        "id": "aDBbPmPPaQuG",
        "colab": {
          "base_uri": "https://localhost:8080/",
          "height": 51
        },
        "outputId": "9fba7638-d3f4-4b9e-a7f1-cee13b4f013b"
      },
      "cell_type": "code",
      "source": [
        "# Download the data.\n",
        "from torchvision import datasets, transforms\n",
        "\n",
        "transformations = transforms.Compose(\n",
        "    [transforms.ToTensor(),\n",
        "     #transforms.Normalize((0.4914, 0.4822, 0.4465), (0.2023, 0.1994, 0.2010))])\n",
        "     transforms.Normalize((0.5, 0.5, 0.5), (0.5, 0.5, 0.5))])\n",
        "train_set = datasets.CIFAR10(root='hw10_data/', download=True, transform=transformations)\n",
        "test_set = datasets.CIFAR10(root='hw10_data', download=True, train=False, transform=transformations)"
      ],
      "execution_count": 17,
      "outputs": [
        {
          "output_type": "stream",
          "text": [
            "Files already downloaded and verified\n",
            "Files already downloaded and verified\n"
          ],
          "name": "stdout"
        }
      ]
    },
    {
      "metadata": {
        "colab_type": "text",
        "id": "dfomsGyJiKz9"
      },
      "cell_type": "markdown",
      "source": [
        "Use `DataLoader` to create a loader for the training set and a loader for the testing set. You can use a `batch_size` of 8 to start, and change it if you wish."
      ]
    },
    {
      "metadata": {
        "colab_type": "code",
        "id": "Ioe04mbSiQiV",
        "colab": {}
      },
      "cell_type": "code",
      "source": [
        "from torch.utils.data import DataLoader\n",
        "\n",
        "batch_size = 8\n",
        "train_loader = torch.utils.data.DataLoader(train_set, 8, shuffle=True, num_workers=2)\n",
        "test_loader = torch.utils.data.DataLoader(test_set, 8, shuffle=True, num_workers=2)\n",
        "\n",
        "input_shape = np.array(train_set[0][0]).shape\n",
        "input_dim = input_shape[1]*input_shape[2]*input_shape[0]\n",
        "\n"
      ],
      "execution_count": 0,
      "outputs": []
    },
    {
      "metadata": {
        "colab_type": "code",
        "id": "fGoPdmuUOOiE",
        "colab": {
          "base_uri": "https://localhost:8080/",
          "height": 34
        },
        "outputId": "57ce4ee4-7842-491e-a314-2a059801785e"
      },
      "cell_type": "code",
      "source": [
        "training_epochs = 5\n",
        "input_dim\n",
        "print(input_shape)"
      ],
      "execution_count": 29,
      "outputs": [
        {
          "output_type": "stream",
          "text": [
            "(3, 32, 32)\n"
          ],
          "name": "stdout"
        }
      ]
    },
    {
      "metadata": {
        "colab_type": "text",
        "id": "3T2-qkh8frqF"
      },
      "cell_type": "markdown",
      "source": [
        "## Part 1 CIFAR10 with Fully Connected Neural Netowrk (25 Points)\n",
        "\n",
        "As a warm-up, let's begin by training a two-layer fully connected neural network model on ** CIFAR-10** dataset. You may go back to check HW8 for some basics.\n",
        "\n",
        "We will give you this code to use as a baseline to compare against your CNN models."
      ]
    },
    {
      "metadata": {
        "colab_type": "code",
        "id": "Ck1CGpRycRFE",
        "colab": {
          "base_uri": "https://localhost:8080/",
          "height": 663
        },
        "outputId": "c35aa6fd-fa4e-49ef-a604-3947d7d24af4"
      },
      "cell_type": "code",
      "source": [
        "class TwoLayerModel(nn.Module):\n",
        "  def __init__(self):\n",
        "    super(TwoLayerModel, self).__init__()\n",
        "    self.net = nn.Sequential(\n",
        "      Flatten(), \n",
        "      nn.Linear(input_dim, 64), \n",
        "      nn.ReLU(), \n",
        "      nn.Linear(64, 10))\n",
        "    \n",
        "  def forward(self, x):\n",
        "    return self.net(x)\n",
        "\n",
        "model = TwoLayerModel().to(device)\n",
        "\n",
        "loss = nn.CrossEntropyLoss()\n",
        "optimizer = optim.RMSprop(model.parameters(), lr=0.001, weight_decay=0.01)\n",
        "\n",
        "# Training epoch should be about 15-20 sec each on GPU.\n",
        "metrics = train(model, train_loader, test_loader, loss, optimizer, training_epochs)"
      ],
      "execution_count": 30,
      "outputs": [
        {
          "output_type": "stream",
          "text": [
            "  Epoch 0 @ step 0: Train Loss: 0.004341, Train Accuracy: 0.000000\n",
            "  Epoch 0 @ step 1000: Train Loss: 1.955253, Train Accuracy: 0.320000\n",
            "  Epoch 0 @ step 2000: Train Loss: 1.811189, Train Accuracy: 0.355625\n",
            "  Epoch 0 @ step 3000: Train Loss: 1.786946, Train Accuracy: 0.357750\n",
            "  Epoch 0 @ step 4000: Train Loss: 1.767148, Train Accuracy: 0.368125\n",
            "  Epoch 0 @ step 5000: Train Loss: 1.761317, Train Accuracy: 0.376875\n",
            "  Epoch 0 @ step 6000: Train Loss: 1.763613, Train Accuracy: 0.366000\n",
            "Epoch 0 Test Loss: 1.723861, Test Accuracy: 0.378100, time: 16.2s\n",
            "  Epoch 1 @ step 7000: Train Loss: 1.742310, Train Accuracy: 0.378875\n",
            "  Epoch 1 @ step 8000: Train Loss: 1.722244, Train Accuracy: 0.384375\n",
            "  Epoch 1 @ step 9000: Train Loss: 1.737844, Train Accuracy: 0.382500\n",
            "  Epoch 1 @ step 10000: Train Loss: 1.721298, Train Accuracy: 0.385500\n",
            "  Epoch 1 @ step 11000: Train Loss: 1.767192, Train Accuracy: 0.366500\n",
            "  Epoch 1 @ step 12000: Train Loss: 1.735281, Train Accuracy: 0.377250\n",
            "Epoch 1 Test Loss: 1.863082, Test Accuracy: 0.351600, time: 16.5s\n",
            "  Epoch 2 @ step 13000: Train Loss: 1.729339, Train Accuracy: 0.384625\n",
            "  Epoch 2 @ step 14000: Train Loss: 1.734064, Train Accuracy: 0.390750\n",
            "  Epoch 2 @ step 15000: Train Loss: 1.731382, Train Accuracy: 0.387000\n",
            "  Epoch 2 @ step 16000: Train Loss: 1.748649, Train Accuracy: 0.377000\n",
            "  Epoch 2 @ step 17000: Train Loss: 1.734413, Train Accuracy: 0.376625\n",
            "  Epoch 2 @ step 18000: Train Loss: 1.724939, Train Accuracy: 0.381000\n",
            "Epoch 2 Test Loss: 1.715128, Test Accuracy: 0.383400, time: 17.6s\n",
            "  Epoch 3 @ step 19000: Train Loss: 1.734491, Train Accuracy: 0.383125\n",
            "  Epoch 3 @ step 20000: Train Loss: 1.722034, Train Accuracy: 0.382375\n",
            "  Epoch 3 @ step 21000: Train Loss: 1.724478, Train Accuracy: 0.390375\n",
            "  Epoch 3 @ step 22000: Train Loss: 1.741044, Train Accuracy: 0.375250\n",
            "  Epoch 3 @ step 23000: Train Loss: 1.737109, Train Accuracy: 0.377375\n",
            "  Epoch 3 @ step 24000: Train Loss: 1.726310, Train Accuracy: 0.384875\n",
            "Epoch 3 Test Loss: 1.730019, Test Accuracy: 0.375000, time: 16.4s\n",
            "  Epoch 4 @ step 25000: Train Loss: 1.761564, Train Accuracy: 0.374375\n",
            "  Epoch 4 @ step 26000: Train Loss: 1.730406, Train Accuracy: 0.389375\n",
            "  Epoch 4 @ step 27000: Train Loss: 1.742286, Train Accuracy: 0.370625\n",
            "  Epoch 4 @ step 28000: Train Loss: 1.737264, Train Accuracy: 0.378500\n",
            "  Epoch 4 @ step 29000: Train Loss: 1.734654, Train Accuracy: 0.378250\n",
            "  Epoch 4 @ step 30000: Train Loss: 1.727156, Train Accuracy: 0.390750\n",
            "  Epoch 4 @ step 31000: Train Loss: 1.744478, Train Accuracy: 0.373000\n",
            "Epoch 4 Test Loss: 1.782623, Test Accuracy: 0.373200, time: 16.4s\n",
            "Final Test Loss: 1.782623, Test Accuracy: 0.373200, Total time: 83.1s\n"
          ],
          "name": "stdout"
        }
      ]
    },
    {
      "metadata": {
        "colab_type": "text",
        "id": "qjbncuMnKpf7"
      },
      "cell_type": "markdown",
      "source": [
        "**Plot the model results**\n",
        "\n",
        "Normally we would want to use Tensorboard for looking at metrics.  However, if colab reset while we are working, we might lose our logs and therefore our metrics.  Let's just plot some graphs that will survive across colab instances."
      ]
    },
    {
      "metadata": {
        "colab_type": "code",
        "id": "CuVL9MJ_D92h",
        "colab": {
          "base_uri": "https://localhost:8080/",
          "height": 573
        },
        "outputId": "95107b14-e79d-423f-e0a3-746261cb6066"
      },
      "cell_type": "code",
      "source": [
        "plot_graphs(\"TwoLayerModel\", metrics)"
      ],
      "execution_count": 10,
      "outputs": [
        {
          "output_type": "display_data",
          "data": {
            "image/png": "[encoded data removed]",
            "text/plain": [
              "<Figure size 432x288 with 1 Axes>"
            ]
          },
          "metadata": {
            "tags": []
          }
        },
        {
          "output_type": "display_data",
          "data": {
            "image/png": "[encoded data removed]",
            "text/plain": [
              "<Figure size 432x288 with 1 Axes>"
            ]
          },
          "metadata": {
            "tags": []
          }
        }
      ]
    },
    {
      "metadata": {
        "id": "MVY0mGVXQ0A0",
        "colab_type": "text"
      },
      "cell_type": "markdown",
      "source": [
        "# New Section"
      ]
    },
    {
      "metadata": {
        "colab_type": "text",
        "id": "4_xi8bkkfsM7"
      },
      "cell_type": "markdown",
      "source": [
        "## Part 2 Convolutional Neural Network (CNN) (35 Points)\n",
        "\n",
        "Now, let's design a convolution neural netwrok!\n",
        "\n",
        "Build a simple CNN model, inserting 2 CNN layers in from of our 2 layer fully connect model from above:\n",
        "\n",
        "1. A convolution with\t3x3 filter, 16 output channels, stride = 1, padding=1\n",
        "2. A ReLU activation\n",
        "2. A Max-Pooling layer with 2x2 window\n",
        "3. A convolution,\t3x3 filter, 16 output channels, stride = 1, padding=1\n",
        "4. A ReLU activation\n",
        "4. Flatten layer\n",
        "5. Fully connected linear layer with output size 64\n",
        "6. ReLU\n",
        "7. Fully connected linear layer, with output size 10\n",
        "\n",
        "You will have to figure out the input sizes of the first fully connnected layer based on the previous layer sizes. Note that you also need to fill those in the report section (see report section in the notebook for details) "
      ]
    },
    {
      "metadata": {
        "colab_type": "code",
        "id": "tLXjjywngO7g",
        "colab": {
          "base_uri": "https://localhost:8080/",
          "height": 663
        },
        "outputId": "59601ef0-6251-4bd2-a46b-2a65535ba9ee"
      },
      "cell_type": "code",
      "source": [
        "class ConvModel(nn.Module):\n",
        "  # Your Code Here\n",
        "  def __init__(self):\n",
        "    super(ConvModel, self).__init__()\n",
        "    self.layer1 = nn.Sequential(\n",
        "            nn.Conv2d(3, 16, kernel_size=3, stride=1, padding=1),\n",
        "            nn.ReLU(),\n",
        "            nn.MaxPool2d(kernel_size=2, stride=2))\n",
        "    self.layer2 = nn.Sequential(\n",
        "            nn.Conv2d(16, 16, kernel_size=3, stride=1, padding=1),\n",
        "            nn.ReLU(),\n",
        "            nn.MaxPool2d(kernel_size=2, stride=2))\n",
        "    self.drop_out = nn.Dropout()\n",
        "    self.fc1 = nn.Linear(1024, 64)\n",
        "    self.fc2 = nn.Linear(64, 10)\n",
        "    \n",
        "  def forward(self, x):\n",
        "    out = self.layer1(x)\n",
        "#     print(out.shape)\n",
        "    out = self.layer2(out)\n",
        "#     print(out.shape)\n",
        "    out = out.reshape(out.size(0), -1)\n",
        "#     print(out.shape)\n",
        "    out = self.drop_out(out)\n",
        "    out = self.fc1(out)\n",
        "#     print(out.shape)\n",
        "    out = self.fc2(out)\n",
        "#     print(out.shape)\n",
        "    return out\n",
        "\n",
        "#input_dim = 512  \n",
        "model = ConvModel().to(device)\n",
        "\n",
        "loss = nn.CrossEntropyLoss()\n",
        "optimizer = optim.RMSprop(model.parameters(), lr=0.001, weight_decay=0.01)\n",
        "\n",
        "metrcs = train(model, train_loader, test_loader, loss, optimizer, training_epochs)"
      ],
      "execution_count": 32,
      "outputs": [
        {
          "output_type": "stream",
          "text": [
            "  Epoch 0 @ step 0: Train Loss: 0.004354, Train Accuracy: 0.000000\n",
            "  Epoch 0 @ step 1000: Train Loss: 1.874201, Train Accuracy: 0.305875\n",
            "  Epoch 0 @ step 2000: Train Loss: 1.645598, Train Accuracy: 0.387750\n",
            "  Epoch 0 @ step 3000: Train Loss: 1.572988, Train Accuracy: 0.426000\n",
            "  Epoch 0 @ step 4000: Train Loss: 1.539556, Train Accuracy: 0.440500\n",
            "  Epoch 0 @ step 5000: Train Loss: 1.513241, Train Accuracy: 0.448500\n",
            "  Epoch 0 @ step 6000: Train Loss: 1.482784, Train Accuracy: 0.463250\n",
            "Epoch 0 Test Loss: 1.376849, Test Accuracy: 0.507900, time: 23.2s\n",
            "  Epoch 1 @ step 7000: Train Loss: 1.494379, Train Accuracy: 0.452500\n",
            "  Epoch 1 @ step 8000: Train Loss: 1.483671, Train Accuracy: 0.450500\n",
            "  Epoch 1 @ step 9000: Train Loss: 1.470106, Train Accuracy: 0.466125\n",
            "  Epoch 1 @ step 10000: Train Loss: 1.457206, Train Accuracy: 0.471375\n",
            "  Epoch 1 @ step 11000: Train Loss: 1.457650, Train Accuracy: 0.473375\n",
            "  Epoch 1 @ step 12000: Train Loss: 1.452578, Train Accuracy: 0.467500\n",
            "Epoch 1 Test Loss: 1.323436, Test Accuracy: 0.529800, time: 24.3s\n",
            "  Epoch 2 @ step 13000: Train Loss: 1.431220, Train Accuracy: 0.474875\n",
            "  Epoch 2 @ step 14000: Train Loss: 1.422347, Train Accuracy: 0.482875\n",
            "  Epoch 2 @ step 15000: Train Loss: 1.436923, Train Accuracy: 0.481625\n",
            "  Epoch 2 @ step 16000: Train Loss: 1.417624, Train Accuracy: 0.486875\n",
            "  Epoch 2 @ step 17000: Train Loss: 1.412688, Train Accuracy: 0.492625\n",
            "  Epoch 2 @ step 18000: Train Loss: 1.404156, Train Accuracy: 0.490500\n",
            "Epoch 2 Test Loss: 1.292639, Test Accuracy: 0.547500, time: 25.9s\n",
            "  Epoch 3 @ step 19000: Train Loss: 1.394166, Train Accuracy: 0.497625\n",
            "  Epoch 3 @ step 20000: Train Loss: 1.377315, Train Accuracy: 0.505250\n",
            "  Epoch 3 @ step 21000: Train Loss: 1.371705, Train Accuracy: 0.492875\n",
            "  Epoch 3 @ step 22000: Train Loss: 1.383848, Train Accuracy: 0.507625\n",
            "  Epoch 3 @ step 23000: Train Loss: 1.388811, Train Accuracy: 0.500125\n",
            "  Epoch 3 @ step 24000: Train Loss: 1.379411, Train Accuracy: 0.499625\n",
            "Epoch 3 Test Loss: 1.274102, Test Accuracy: 0.549300, time: 24.4s\n",
            "  Epoch 4 @ step 25000: Train Loss: 1.399453, Train Accuracy: 0.498000\n",
            "  Epoch 4 @ step 26000: Train Loss: 1.384414, Train Accuracy: 0.504750\n",
            "  Epoch 4 @ step 27000: Train Loss: 1.356745, Train Accuracy: 0.508500\n",
            "  Epoch 4 @ step 28000: Train Loss: 1.363542, Train Accuracy: 0.507250\n",
            "  Epoch 4 @ step 29000: Train Loss: 1.346944, Train Accuracy: 0.523250\n",
            "  Epoch 4 @ step 30000: Train Loss: 1.369503, Train Accuracy: 0.506375\n",
            "  Epoch 4 @ step 31000: Train Loss: 1.337083, Train Accuracy: 0.531250\n",
            "Epoch 4 Test Loss: 1.219029, Test Accuracy: 0.569000, time: 26.4s\n",
            "Final Test Loss: 1.219029, Test Accuracy: 0.569000, Total time: 124.2s\n"
          ],
          "name": "stdout"
        }
      ]
    },
    {
      "metadata": {
        "colab_type": "code",
        "id": "8BGTJw-TPTfh",
        "colab": {
          "base_uri": "https://localhost:8080/",
          "height": 573
        },
        "outputId": "a2d1bcb8-c79e-4561-8232-7a37b48a0f38"
      },
      "cell_type": "code",
      "source": [
        "plot_graphs(\"ConvModel\", metrcs)"
      ],
      "execution_count": 33,
      "outputs": [
        {
          "output_type": "display_data",
          "data": {
            "image/png": "[encoded data removed]",
            "text/plain": [
              "<Figure size 432x288 with 1 Axes>"
            ]
          },
          "metadata": {
            "tags": []
          }
        },
        {
          "output_type": "display_data",
          "data": {
            "image/png": "[encoded data removed]",
            "text/plain": [
              "<Figure size 432x288 with 1 Axes>"
            ]
          },
          "metadata": {
            "tags": []
          }
        }
      ]
    },
    {
      "metadata": {
        "colab_type": "text",
        "id": "oFAc6IORmzCJ"
      },
      "cell_type": "markdown",
      "source": [
        "Do you notice the improvement over the accuracy compared to that in Part 1?"
      ]
    },
    {
      "metadata": {
        "colab_type": "text",
        "id": "hXpJgsjhftDP"
      },
      "cell_type": "markdown",
      "source": [
        "## Part 3 Open Design Competition (35 Points + 10 bonus points)\n",
        "\n",
        "Try to beat the previous models by adding additional layers, changing parameters, etc.  You should add at least one layer.\n",
        "\n",
        "Possible changes include:\n",
        "*   Dropout\n",
        "*   Batch Normalization\n",
        "*   More layers\n",
        "*   Residual Connections (harder)\n",
        "*   Change layer size\n",
        "*   Pooling layers, stride\n",
        "*   Different optimizer\n",
        "*   Train for longer\n",
        "\n",
        "Once you have a model you think is great, evaluate it against our hidden test data (see hidden_loader above) and upload the results to the leader board on gradescope.  **The top 3 scorers will get a bonus 10 points.**\n",
        "\n",
        "You can steal model structures found on the internet if you want.  The only constraint is that **you must train the model from scratch**.\n"
      ]
    },
    {
      "metadata": {
        "colab_type": "code",
        "id": "QZFkuraiZOaT",
        "colab": {
          "base_uri": "https://localhost:8080/",
          "height": 3587
        },
        "outputId": "a0aeb749-0ac8-4112-f57c-25a7b7aab6ac"
      },
      "cell_type": "code",
      "source": [
        "# You Awesome Super Best model code here\n",
        "from torch.autograd import Variable\n",
        "\n",
        "class CNN(nn.Module):\n",
        "    \"\"\"CNN.\"\"\"\n",
        "\n",
        "    def __init__(self):\n",
        "        \"\"\"CNN Builder.\"\"\"\n",
        "        super(CNN, self).__init__()\n",
        "\n",
        "        self.conv_layer = nn.Sequential(\n",
        "\n",
        "            # Conv Layer block 1\n",
        "            nn.Conv2d(in_channels=3, out_channels=32, kernel_size=3, padding=1),\n",
        "            nn.BatchNorm2d(32),\n",
        "            nn.ReLU(inplace=True),\n",
        "            nn.Conv2d(in_channels=32, out_channels=64, kernel_size=3, padding=1),\n",
        "            nn.ReLU(inplace=True),\n",
        "            nn.MaxPool2d(kernel_size=2, stride=2),\n",
        "\n",
        "            # Conv Layer block 2\n",
        "            nn.Conv2d(in_channels=64, out_channels=128, kernel_size=3, padding=1),\n",
        "            nn.BatchNorm2d(128),\n",
        "            nn.ReLU(inplace=True),\n",
        "            nn.Conv2d(in_channels=128, out_channels=128, kernel_size=3, padding=1),\n",
        "            nn.ReLU(inplace=True),\n",
        "            nn.MaxPool2d(kernel_size=2, stride=2),\n",
        "            nn.Dropout2d(p=0.05),\n",
        "\n",
        "            # Conv Layer block 3\n",
        "            nn.Conv2d(in_channels=128, out_channels=256, kernel_size=3, padding=1),\n",
        "            nn.BatchNorm2d(256),\n",
        "            nn.ReLU(inplace=True),\n",
        "            nn.Conv2d(in_channels=256, out_channels=256, kernel_size=3, padding=1),\n",
        "            nn.ReLU(inplace=True),\n",
        "            nn.MaxPool2d(kernel_size=2, stride=2),\n",
        "        )\n",
        "\n",
        "\n",
        "        self.fc_layer = nn.Sequential(\n",
        "            nn.Dropout(p=0.1),\n",
        "            nn.Linear(4096, 1024),\n",
        "            nn.ReLU(inplace=True),\n",
        "            nn.Linear(1024, 512),\n",
        "            nn.ReLU(inplace=True),\n",
        "            nn.Dropout(p=0.1),\n",
        "            nn.Linear(512, 10)\n",
        "        )\n",
        "\n",
        "\n",
        "    def forward(self, x):\n",
        "        \"\"\"Perform forward.\"\"\"\n",
        "        \n",
        "        # conv layers\n",
        "        x = self.conv_layer(x)\n",
        "        \n",
        "        # flatten\n",
        "        x = x.view(x.size(0), -1)\n",
        "        \n",
        "        # fc layer\n",
        "        x = self.fc_layer(x)\n",
        "\n",
        "        return x\n",
        "     \n",
        "    \n",
        "\n",
        "model = CNN().to(device)\n",
        "\n",
        "loss = nn.CrossEntropyLoss()\n",
        "#optimizer = optim.RMSprop(model.parameters(), lr=0.001, weight_decay=5e-4)\n",
        "optimizer = optim.Adam(model.parameters(), lr=0.001, weight_decay=5e-4)\n",
        "\n",
        "mtrs = train(model, train_loader, test_loader, loss, optimizer, 150)"
      ],
      "execution_count": 24,
      "outputs": [
        {
          "output_type": "stream",
          "text": [
            "  Epoch 0 @ step 0: Train Loss: 0.004303, Train Accuracy: 0.000086\n",
            "Epoch 0 Test Loss: 0.993474, Test Accuracy: 0.646895, time: 19.0s\n",
            "Epoch 1 Test Loss: 0.779195, Test Accuracy: 0.727508, time: 19.2s\n",
            "  Epoch 2 @ step 1000: Train Loss: 0.993538, Train Accuracy: 0.641731\n",
            "Epoch 2 Test Loss: 0.699902, Test Accuracy: 0.752190, time: 19.4s\n",
            "Epoch 3 Test Loss: 0.706897, Test Accuracy: 0.757265, time: 19.1s\n",
            "Epoch 4 Test Loss: 0.617195, Test Accuracy: 0.797970, time: 19.1s\n",
            "  Epoch 5 @ step 2000: Train Loss: 0.548502, Train Accuracy: 0.809731\n",
            "Epoch 5 Test Loss: 0.625091, Test Accuracy: 0.792894, time: 19.2s\n",
            "Epoch 6 Test Loss: 0.599728, Test Accuracy: 0.805732, time: 19.2s\n",
            "  Epoch 7 @ step 3000: Train Loss: 0.394450, Train Accuracy: 0.863230\n",
            "Epoch 7 Test Loss: 0.557784, Test Accuracy: 0.809017, time: 19.1s\n",
            "Epoch 8 Test Loss: 0.570263, Test Accuracy: 0.812699, time: 19.2s\n",
            "Epoch 9 Test Loss: 0.516526, Test Accuracy: 0.830613, time: 19.1s\n",
            "  Epoch 10 @ step 4000: Train Loss: 0.306975, Train Accuracy: 0.892770\n",
            "Epoch 10 Test Loss: 0.542961, Test Accuracy: 0.824144, time: 19.0s\n",
            "Epoch 11 Test Loss: 0.506282, Test Accuracy: 0.839670, time: 19.0s\n",
            "  Epoch 12 @ step 5000: Train Loss: 0.248670, Train Accuracy: 0.912486\n",
            "Epoch 12 Test Loss: 0.537450, Test Accuracy: 0.827528, time: 19.0s\n",
            "Epoch 13 Test Loss: 0.520841, Test Accuracy: 0.841859, time: 19.1s\n",
            "Epoch 14 Test Loss: 0.523073, Test Accuracy: 0.835191, time: 19.0s\n",
            "  Epoch 15 @ step 6000: Train Loss: 0.207509, Train Accuracy: 0.927325\n",
            "Epoch 15 Test Loss: 0.540849, Test Accuracy: 0.835390, time: 19.1s\n",
            "Epoch 16 Test Loss: 0.523448, Test Accuracy: 0.836982, time: 19.0s\n",
            "  Epoch 17 @ step 7000: Train Loss: 0.182512, Train Accuracy: 0.935742\n",
            "Epoch 17 Test Loss: 0.555479, Test Accuracy: 0.838177, time: 19.0s\n",
            "Epoch 18 Test Loss: 0.594384, Test Accuracy: 0.836982, time: 18.9s\n",
            "Epoch 19 Test Loss: 0.555656, Test Accuracy: 0.841361, time: 19.1s\n",
            "  Epoch 20 @ step 8000: Train Loss: 0.161025, Train Accuracy: 0.944083\n",
            "Epoch 20 Test Loss: 0.596194, Test Accuracy: 0.827428, time: 19.0s\n",
            "Epoch 21 Test Loss: 0.516691, Test Accuracy: 0.840167, time: 18.9s\n",
            "Epoch 22 Test Loss: 0.606703, Test Accuracy: 0.828921, time: 19.0s\n",
            "  Epoch 23 @ step 9000: Train Loss: 0.150603, Train Accuracy: 0.947259\n",
            "Epoch 23 Test Loss: 0.581294, Test Accuracy: 0.845740, time: 19.0s\n",
            "Epoch 24 Test Loss: 0.564314, Test Accuracy: 0.833599, time: 19.1s\n",
            "  Epoch 25 @ step 10000: Train Loss: 0.136593, Train Accuracy: 0.953380\n",
            "Epoch 25 Test Loss: 0.586018, Test Accuracy: 0.832404, time: 19.0s\n",
            "Epoch 26 Test Loss: 0.577965, Test Accuracy: 0.840466, time: 19.0s\n",
            "Epoch 27 Test Loss: 0.559393, Test Accuracy: 0.843352, time: 18.9s\n",
            "  Epoch 28 @ step 11000: Train Loss: 0.135899, Train Accuracy: 0.953170\n",
            "Epoch 28 Test Loss: 0.558614, Test Accuracy: 0.837381, time: 19.0s\n",
            "Epoch 29 Test Loss: 0.552485, Test Accuracy: 0.839271, time: 18.9s\n",
            "  Epoch 30 @ step 12000: Train Loss: 0.131203, Train Accuracy: 0.954445\n",
            "Epoch 30 Test Loss: 0.564841, Test Accuracy: 0.844049, time: 18.9s\n",
            "Epoch 31 Test Loss: 0.629531, Test Accuracy: 0.829518, time: 19.0s\n",
            "Epoch 32 Test Loss: 0.544783, Test Accuracy: 0.839471, time: 19.1s\n",
            "  Epoch 33 @ step 13000: Train Loss: 0.123762, Train Accuracy: 0.956586\n",
            "Epoch 33 Test Loss: 0.599285, Test Accuracy: 0.835490, time: 18.9s\n",
            "Epoch 34 Test Loss: 0.562399, Test Accuracy: 0.840963, time: 19.0s\n",
            "  Epoch 35 @ step 14000: Train Loss: 0.122464, Train Accuracy: 0.957683\n",
            "Epoch 35 Test Loss: 0.633774, Test Accuracy: 0.830613, time: 18.9s\n",
            "Epoch 36 Test Loss: 0.585347, Test Accuracy: 0.836087, time: 18.9s\n",
            "Epoch 37 Test Loss: 0.539662, Test Accuracy: 0.842954, time: 19.0s\n",
            "  Epoch 38 @ step 15000: Train Loss: 0.116993, Train Accuracy: 0.959775\n",
            "Epoch 38 Test Loss: 0.564446, Test Accuracy: 0.847432, time: 18.9s\n",
            "Epoch 39 Test Loss: 0.636483, Test Accuracy: 0.830414, time: 18.9s\n",
            "  Epoch 40 @ step 16000: Train Loss: 0.117740, Train Accuracy: 0.958936\n",
            "Epoch 40 Test Loss: 0.562163, Test Accuracy: 0.843949, time: 19.0s\n",
            "Epoch 41 Test Loss: 0.589888, Test Accuracy: 0.837480, time: 18.9s\n",
            "Epoch 42 Test Loss: 0.558838, Test Accuracy: 0.843651, time: 18.9s\n",
            "  Epoch 43 @ step 17000: Train Loss: 0.113573, Train Accuracy: 0.960784\n",
            "Epoch 43 Test Loss: 0.536299, Test Accuracy: 0.854498, time: 18.9s\n",
            "Epoch 44 Test Loss: 0.579807, Test Accuracy: 0.842655, time: 18.9s\n",
            "Epoch 45 Test Loss: 0.619408, Test Accuracy: 0.841660, time: 18.8s\n",
            "  Epoch 46 @ step 18000: Train Loss: 0.112392, Train Accuracy: 0.961095\n",
            "Epoch 46 Test Loss: 0.598185, Test Accuracy: 0.840864, time: 18.9s\n",
            "Epoch 47 Test Loss: 0.549385, Test Accuracy: 0.849920, time: 18.9s\n",
            "  Epoch 48 @ step 19000: Train Loss: 0.111765, Train Accuracy: 0.961864\n",
            "Epoch 48 Test Loss: 0.536030, Test Accuracy: 0.850518, time: 18.9s\n",
            "Epoch 49 Test Loss: 0.657479, Test Accuracy: 0.836385, time: 18.9s\n",
            "Epoch 50 Test Loss: 0.584713, Test Accuracy: 0.842158, time: 18.8s\n",
            "  Epoch 51 @ step 20000: Train Loss: 0.108615, Train Accuracy: 0.962767\n",
            "Epoch 51 Test Loss: 0.580315, Test Accuracy: 0.846039, time: 18.8s\n",
            "Epoch 52 Test Loss: 0.534679, Test Accuracy: 0.844944, time: 18.9s\n",
            "  Epoch 53 @ step 21000: Train Loss: 0.107984, Train Accuracy: 0.962944\n",
            "Epoch 53 Test Loss: 0.543885, Test Accuracy: 0.846835, time: 18.8s\n",
            "Epoch 54 Test Loss: 0.577467, Test Accuracy: 0.845143, time: 18.8s\n",
            "Epoch 55 Test Loss: 0.597579, Test Accuracy: 0.838973, time: 18.8s\n",
            "  Epoch 56 @ step 22000: Train Loss: 0.109218, Train Accuracy: 0.962178\n",
            "Epoch 56 Test Loss: 0.542724, Test Accuracy: 0.853404, time: 18.9s\n",
            "Epoch 57 Test Loss: 0.628992, Test Accuracy: 0.838276, time: 18.8s\n",
            "  Epoch 58 @ step 23000: Train Loss: 0.106677, Train Accuracy: 0.963128\n",
            "Epoch 58 Test Loss: 0.583595, Test Accuracy: 0.846437, time: 18.8s\n",
            "Epoch 59 Test Loss: 0.595337, Test Accuracy: 0.843850, time: 18.7s\n",
            "Epoch 60 Test Loss: 0.572451, Test Accuracy: 0.846537, time: 18.8s\n",
            "  Epoch 61 @ step 24000: Train Loss: 0.102323, Train Accuracy: 0.964839\n",
            "Epoch 61 Test Loss: 0.550824, Test Accuracy: 0.842058, time: 18.8s\n",
            "Epoch 62 Test Loss: 0.570577, Test Accuracy: 0.847134, time: 18.7s\n",
            "  Epoch 63 @ step 25000: Train Loss: 0.106733, Train Accuracy: 0.963042\n",
            "Epoch 63 Test Loss: 0.607581, Test Accuracy: 0.838674, time: 18.7s\n",
            "Epoch 64 Test Loss: 0.524688, Test Accuracy: 0.851413, time: 18.8s\n",
            "Epoch 65 Test Loss: 0.591008, Test Accuracy: 0.838475, time: 18.8s\n",
            "  Epoch 66 @ step 26000: Train Loss: 0.101285, Train Accuracy: 0.964872\n",
            "Epoch 66 Test Loss: 0.576459, Test Accuracy: 0.850816, time: 18.8s\n",
            "Epoch 67 Test Loss: 0.588384, Test Accuracy: 0.843949, time: 18.8s\n",
            "Epoch 68 Test Loss: 0.566132, Test Accuracy: 0.843451, time: 18.9s\n",
            "  Epoch 69 @ step 27000: Train Loss: 0.103395, Train Accuracy: 0.964306\n",
            "Epoch 69 Test Loss: 0.556238, Test Accuracy: 0.849622, time: 18.8s\n",
            "Epoch 70 Test Loss: 0.565162, Test Accuracy: 0.848328, time: 18.9s\n",
            "  Epoch 71 @ step 28000: Train Loss: 0.099709, Train Accuracy: 0.965595\n",
            "Epoch 71 Test Loss: 0.572978, Test Accuracy: 0.842655, time: 18.8s\n",
            "Epoch 72 Test Loss: 0.556728, Test Accuracy: 0.845442, time: 18.8s\n",
            "Epoch 73 Test Loss: 0.581128, Test Accuracy: 0.852807, time: 18.9s\n",
            "  Epoch 74 @ step 29000: Train Loss: 0.101020, Train Accuracy: 0.965194\n",
            "Epoch 74 Test Loss: 0.540571, Test Accuracy: 0.849920, time: 18.8s\n",
            "Epoch 75 Test Loss: 0.618701, Test Accuracy: 0.834196, time: 18.7s\n",
            "  Epoch 76 @ step 30000: Train Loss: 0.098017, Train Accuracy: 0.966659\n",
            "Epoch 76 Test Loss: 0.552118, Test Accuracy: 0.849821, time: 18.7s\n",
            "Epoch 77 Test Loss: 0.537660, Test Accuracy: 0.856489, time: 18.7s\n",
            "Epoch 78 Test Loss: 0.591655, Test Accuracy: 0.842854, time: 18.7s\n",
            "  Epoch 79 @ step 31000: Train Loss: 0.098853, Train Accuracy: 0.966019\n",
            "Epoch 79 Test Loss: 0.615627, Test Accuracy: 0.841162, time: 18.7s\n",
            "Epoch 80 Test Loss: 0.609467, Test Accuracy: 0.836286, time: 18.7s\n",
            "  Epoch 81 @ step 32000: Train Loss: 0.100124, Train Accuracy: 0.966228\n",
            "Epoch 81 Test Loss: 0.565798, Test Accuracy: 0.847830, time: 18.8s\n",
            "Epoch 82 Test Loss: 0.567781, Test Accuracy: 0.845740, time: 18.7s\n",
            "Epoch 83 Test Loss: 0.564402, Test Accuracy: 0.842456, time: 18.8s\n",
            "  Epoch 84 @ step 33000: Train Loss: 0.097168, Train Accuracy: 0.966633\n",
            "Epoch 84 Test Loss: 0.589184, Test Accuracy: 0.844148, time: 18.8s\n",
            "Epoch 85 Test Loss: 0.544396, Test Accuracy: 0.858678, time: 18.8s\n",
            "  Epoch 86 @ step 34000: Train Loss: 0.096871, Train Accuracy: 0.967228\n",
            "Epoch 86 Test Loss: 0.537673, Test Accuracy: 0.852309, time: 18.8s\n",
            "Epoch 87 Test Loss: 0.615787, Test Accuracy: 0.837679, time: 18.8s\n",
            "Epoch 88 Test Loss: 0.522107, Test Accuracy: 0.854299, time: 18.7s\n",
            "  Epoch 89 @ step 35000: Train Loss: 0.096810, Train Accuracy: 0.966917\n",
            "Epoch 89 Test Loss: 0.568546, Test Accuracy: 0.847930, time: 18.7s\n",
            "Epoch 90 Test Loss: 0.593532, Test Accuracy: 0.846039, time: 18.8s\n",
            "Epoch 91 Test Loss: 0.680617, Test Accuracy: 0.830514, time: 18.8s\n",
            "  Epoch 92 @ step 36000: Train Loss: 0.097983, Train Accuracy: 0.966455\n",
            "Epoch 92 Test Loss: 0.575636, Test Accuracy: 0.839072, time: 18.7s\n",
            "Epoch 93 Test Loss: 0.647388, Test Accuracy: 0.831210, time: 18.7s\n",
            "  Epoch 94 @ step 37000: Train Loss: 0.095522, Train Accuracy: 0.966988\n",
            "Epoch 94 Test Loss: 0.654838, Test Accuracy: 0.833599, time: 18.7s\n",
            "Epoch 95 Test Loss: 0.588322, Test Accuracy: 0.841959, time: 18.7s\n",
            "Epoch 96 Test Loss: 0.583054, Test Accuracy: 0.844944, time: 18.7s\n",
            "  Epoch 97 @ step 38000: Train Loss: 0.094411, Train Accuracy: 0.967381\n",
            "Epoch 97 Test Loss: 0.566803, Test Accuracy: 0.853603, time: 18.7s\n",
            "Epoch 98 Test Loss: 0.592372, Test Accuracy: 0.836584, time: 18.8s\n",
            "  Epoch 99 @ step 39000: Train Loss: 0.095443, Train Accuracy: 0.967200\n",
            "Epoch 99 Test Loss: 0.540214, Test Accuracy: 0.856887, time: 18.6s\n",
            "Epoch 100 Test Loss: 0.566213, Test Accuracy: 0.849622, time: 18.7s\n",
            "Epoch 101 Test Loss: 0.509947, Test Accuracy: 0.860370, time: 18.7s\n",
            "  Epoch 102 @ step 40000: Train Loss: 0.093190, Train Accuracy: 0.968003\n",
            "Epoch 102 Test Loss: 0.574835, Test Accuracy: 0.848627, time: 18.7s\n",
            "Epoch 103 Test Loss: 0.601066, Test Accuracy: 0.844148, time: 18.7s\n",
            "  Epoch 104 @ step 41000: Train Loss: 0.094799, Train Accuracy: 0.967655\n",
            "Epoch 104 Test Loss: 0.563272, Test Accuracy: 0.853802, time: 18.7s\n",
            "Epoch 105 Test Loss: 0.588407, Test Accuracy: 0.845840, time: 18.6s\n",
            "Epoch 106 Test Loss: 0.558518, Test Accuracy: 0.853205, time: 18.7s\n",
            "  Epoch 107 @ step 42000: Train Loss: 0.091326, Train Accuracy: 0.968212\n",
            "Epoch 107 Test Loss: 0.599221, Test Accuracy: 0.845243, time: 18.8s\n",
            "Epoch 108 Test Loss: 0.562335, Test Accuracy: 0.854100, time: 18.6s\n",
            "  Epoch 109 @ step 43000: Train Loss: 0.094687, Train Accuracy: 0.967391\n",
            "Epoch 109 Test Loss: 0.597301, Test Accuracy: 0.842456, time: 18.7s\n",
            "Epoch 110 Test Loss: 0.539395, Test Accuracy: 0.852906, time: 18.6s\n",
            "Epoch 111 Test Loss: 0.530064, Test Accuracy: 0.856389, time: 18.7s\n",
            "  Epoch 112 @ step 44000: Train Loss: 0.090353, Train Accuracy: 0.969369\n",
            "Epoch 112 Test Loss: 0.690738, Test Accuracy: 0.831210, time: 18.6s\n",
            "Epoch 113 Test Loss: 0.555120, Test Accuracy: 0.851911, time: 18.6s\n",
            "Epoch 114 Test Loss: 0.559026, Test Accuracy: 0.851015, time: 18.8s\n",
            "  Epoch 115 @ step 45000: Train Loss: 0.094958, Train Accuracy: 0.967552\n",
            "Epoch 115 Test Loss: 0.570685, Test Accuracy: 0.853105, time: 18.7s\n",
            "Epoch 116 Test Loss: 0.573182, Test Accuracy: 0.846537, time: 18.6s\n",
            "  Epoch 117 @ step 46000: Train Loss: 0.091036, Train Accuracy: 0.969691\n",
            "Epoch 117 Test Loss: 0.590048, Test Accuracy: 0.846537, time: 18.7s\n",
            "Epoch 118 Test Loss: 0.667863, Test Accuracy: 0.826234, time: 18.7s\n",
            "Epoch 119 Test Loss: 0.521478, Test Accuracy: 0.851413, time: 18.7s\n",
            "  Epoch 120 @ step 47000: Train Loss: 0.091729, Train Accuracy: 0.968842\n",
            "Epoch 120 Test Loss: 0.644323, Test Accuracy: 0.834594, time: 18.7s\n",
            "Epoch 121 Test Loss: 0.536608, Test Accuracy: 0.849224, time: 18.7s\n",
            "  Epoch 122 @ step 48000: Train Loss: 0.088831, Train Accuracy: 0.969574\n",
            "Epoch 122 Test Loss: 0.548713, Test Accuracy: 0.852906, time: 18.8s\n",
            "Epoch 123 Test Loss: 0.600662, Test Accuracy: 0.837480, time: 18.7s\n",
            "Epoch 124 Test Loss: 0.549774, Test Accuracy: 0.852607, time: 18.8s\n",
            "  Epoch 125 @ step 49000: Train Loss: 0.092183, Train Accuracy: 0.968608\n",
            "Epoch 125 Test Loss: 0.593828, Test Accuracy: 0.843252, time: 18.6s\n",
            "Epoch 126 Test Loss: 0.586455, Test Accuracy: 0.844546, time: 18.7s\n",
            "  Epoch 127 @ step 50000: Train Loss: 0.093073, Train Accuracy: 0.968520\n",
            "Epoch 127 Test Loss: 0.595892, Test Accuracy: 0.842158, time: 18.7s\n",
            "Epoch 128 Test Loss: 0.605944, Test Accuracy: 0.848229, time: 18.7s\n",
            "Epoch 129 Test Loss: 0.544108, Test Accuracy: 0.857086, time: 18.6s\n",
            "  Epoch 130 @ step 51000: Train Loss: 0.087799, Train Accuracy: 0.970420\n",
            "Epoch 130 Test Loss: 0.582406, Test Accuracy: 0.840267, time: 18.7s\n",
            "Epoch 131 Test Loss: 0.652664, Test Accuracy: 0.837580, time: 18.6s\n",
            "  Epoch 132 @ step 52000: Train Loss: 0.092013, Train Accuracy: 0.968480\n",
            "Epoch 132 Test Loss: 0.602282, Test Accuracy: 0.846935, time: 18.7s\n",
            "Epoch 133 Test Loss: 0.592221, Test Accuracy: 0.844148, time: 18.7s\n",
            "Epoch 134 Test Loss: 0.555251, Test Accuracy: 0.851612, time: 18.6s\n",
            "  Epoch 135 @ step 53000: Train Loss: 0.086069, Train Accuracy: 0.970995\n",
            "Epoch 135 Test Loss: 0.619179, Test Accuracy: 0.840864, time: 18.6s\n",
            "Epoch 136 Test Loss: 0.595516, Test Accuracy: 0.846537, time: 18.8s\n",
            "Epoch 137 Test Loss: 0.552318, Test Accuracy: 0.846935, time: 18.7s\n",
            "  Epoch 138 @ step 54000: Train Loss: 0.090861, Train Accuracy: 0.969139\n",
            "Epoch 138 Test Loss: 0.576143, Test Accuracy: 0.844646, time: 18.7s\n",
            "Epoch 139 Test Loss: 0.552873, Test Accuracy: 0.855693, time: 18.7s\n",
            "  Epoch 140 @ step 55000: Train Loss: 0.086242, Train Accuracy: 0.971478\n",
            "Epoch 140 Test Loss: 0.546237, Test Accuracy: 0.854299, time: 18.8s\n",
            "Epoch 141 Test Loss: 0.562607, Test Accuracy: 0.848029, time: 18.6s\n",
            "Epoch 142 Test Loss: 0.545235, Test Accuracy: 0.846636, time: 18.6s\n",
            "  Epoch 143 @ step 56000: Train Loss: 0.091590, Train Accuracy: 0.968838\n",
            "Epoch 143 Test Loss: 0.564081, Test Accuracy: 0.848826, time: 18.7s\n",
            "Epoch 144 Test Loss: 0.626076, Test Accuracy: 0.837978, time: 18.6s\n",
            "  Epoch 145 @ step 57000: Train Loss: 0.087679, Train Accuracy: 0.970458\n",
            "Epoch 145 Test Loss: 0.545642, Test Accuracy: 0.854001, time: 18.6s\n",
            "Epoch 146 Test Loss: 0.556414, Test Accuracy: 0.850717, time: 18.7s\n",
            "Epoch 147 Test Loss: 0.541892, Test Accuracy: 0.857186, time: 18.6s\n",
            "  Epoch 148 @ step 58000: Train Loss: 0.089598, Train Accuracy: 0.969066\n",
            "Epoch 148 Test Loss: 0.654673, Test Accuracy: 0.837082, time: 18.6s\n",
            "Epoch 149 Test Loss: 0.585225, Test Accuracy: 0.844745, time: 18.8s\n",
            "Final Test Loss: 0.585225, Test Accuracy: 0.844745, Total time: 2822.7s\n"
          ],
          "name": "stdout"
        }
      ]
    },
    {
      "metadata": {
        "colab_type": "text",
        "id": "xbx5REUdc-Xs"
      },
      "cell_type": "markdown",
      "source": [
        "**What changes did you make to improve your model?**"
      ]
    },
    {
      "metadata": {
        "colab_type": "code",
        "id": "uItu0w4fZTuG",
        "colab": {
          "base_uri": "https://localhost:8080/",
          "height": 573
        },
        "outputId": "5788a659-3cc2-450c-fb6f-5d156bd3dc65"
      },
      "cell_type": "code",
      "source": [
        "plot_graphs(\"AwesomeModel\", mtrs)"
      ],
      "execution_count": 25,
      "outputs": [
        {
          "output_type": "display_data",
          "data": {
            "image/png": "[encoded data removed]",
            "text/plain": [
              "<Figure size 432x288 with 1 Axes>"
            ]
          },
          "metadata": {
            "tags": []
          }
        },
        {
          "output_type": "display_data",
          "data": {
            "image/png": "[encoded data removed]",
            "text/plain": [
              "<Figure size 432x288 with 1 Axes>"
            ]
          },
          "metadata": {
            "tags": []
          }
        }
      ]
    },
    {
      "metadata": {
        "colab_type": "text",
        "id": "rWlP2WsodgK0"
      },
      "cell_type": "markdown",
      "source": [
        "After you get a nice model, download the test_file.zip and unzip it to get test_file.pt. In colab, you can explore your files from the left side bar. You can also download the files to your machine from there."
      ]
    },
    {
      "metadata": {
        "colab_type": "code",
        "id": "Z6UZInUCdfQ1",
        "colab": {
          "base_uri": "https://localhost:8080/",
          "height": 306
        },
        "outputId": "8c99b490-0e98-4532-e6ee-7f56a3d97454"
      },
      "cell_type": "code",
      "source": [
        "!wget http://courses.engr.illinois.edu/cs498aml/sp2019/homeworks/test_file.zip\n",
        "!unzip test_file.zip"
      ],
      "execution_count": 11,
      "outputs": [
        {
          "output_type": "stream",
          "text": [
            "--2019-04-30 01:48:03--  http://courses.engr.illinois.edu/cs498aml/sp2019/homeworks/test_file.zip\n",
            "Resolving courses.engr.illinois.edu (courses.engr.illinois.edu)... 130.126.151.9\n",
            "Connecting to courses.engr.illinois.edu (courses.engr.illinois.edu)|130.126.151.9|:80... connected.\n",
            "HTTP request sent, awaiting response... 301 Moved Permanently\n",
            "Location: https://courses.engr.illinois.edu/cs498aml/sp2019/homeworks/test_file.zip [following]\n",
            "--2019-04-30 01:48:04--  https://courses.engr.illinois.edu/cs498aml/sp2019/homeworks/test_file.zip\n",
            "Connecting to courses.engr.illinois.edu (courses.engr.illinois.edu)|130.126.151.9|:443... connected.\n",
            "HTTP request sent, awaiting response... 200 OK\n",
            "Length: 3841776 (3.7M) [application/x-zip-compressed]\n",
            "Saving to: ‘test_file.zip’\n",
            "\n",
            "test_file.zip       100%[===================>]   3.66M  5.47MB/s    in 0.7s    \n",
            "\n",
            "2019-04-30 01:48:04 (5.47 MB/s) - ‘test_file.zip’ saved [3841776/3841776]\n",
            "\n",
            "Archive:  test_file.zip\n",
            "  inflating: test_file.pt            \n"
          ],
          "name": "stdout"
        }
      ]
    },
    {
      "metadata": {
        "colab_type": "text",
        "id": "7g5caFPreMLT"
      },
      "cell_type": "markdown",
      "source": [
        "Then use your model to predict the label of the test images. Fill the remaining code below, where x has two dimensions (batch_size x one image size). Remember to reshpe x accordingly before feeding it into your model. The submission.txt should contain one predicted label (0~9) each line. Submit your submission.txt to the competition in gradscope."
      ]
    },
    {
      "metadata": {
        "colab_type": "code",
        "id": "yNdYAH9XeLlb",
        "colab": {}
      },
      "cell_type": "code",
      "source": [
        "import torch.utils.data as Data\n",
        "\n",
        "test_file = 'test_file.pt'\n",
        "pred_file = 'submission.txt'\n",
        "\n",
        "f_pred = open(pred_file,'w') \n",
        "tensor = torch.load(test_file)\n",
        "tensor = tensor.reshape(-1,3,32,32)\n",
        "torch_dataset = Data.TensorDataset(tensor) \n",
        "hidden_loader = torch.utils.data.DataLoader(torch_dataset, 64, shuffle=False, num_workers=2)\n",
        "\n",
        "for images in hidden_loader:\n",
        "  img = images[0].to(device)\n",
        "  output = model(img)\n",
        "  res = torch.argmax(output, dim=1)\n",
        "  for i in res:\n",
        "    print(i.item())\n",
        "    f_pred.write(str(i.item()))\n",
        "    f_pred.write('\\n')\n",
        "f_pred.close()\n",
        "  "
      ],
      "execution_count": 0,
      "outputs": []
    },
    {
      "metadata": {
        "colab_type": "text",
        "id": "8-L6F0CMqc-A"
      },
      "cell_type": "markdown",
      "source": [
        "\n",
        "# Report\n",
        "\n",
        "## Part 0: Imports and Basic Setup (5 Points)\n",
        "Nothing to report for this part. You will be just scored for finishing the setup.\n",
        "\n",
        "## Part 1: Fully connected neural networks (25 Points)\n",
        "\n",
        "Test (on validation set) accuracy (5 Points):\n",
        "0.373200 (37.32%)\n",
        "Test loss (5 Points):\n",
        "1.782623\n",
        "Training time (5 Points):\n",
        "83.1s\n",
        "\n",
        "Plots:\n",
        "\n",
        "- Plot a graph of accuracy on validation set vs training steps (5 Points)\n",
        " * Plots are present up with code run.\n",
        "\n",
        "- Plot a graph of loss on validation set vs training steps (5 Points)\n",
        "  * Plot present up with code run.\n",
        "\n",
        "\n",
        "## Part 2: Convolution Network (Basic) (35 Points)\n",
        "\n",
        "Tensor dimensions: A good way to debug your network for size mismatches is to print the dimension of output after every layers:\n",
        "\n",
        "(10 Points)\n",
        "\n",
        "Output dimension after 1st conv layer: \n",
        "16, 16, 16, 16\n",
        "\n",
        "\n",
        "Output dimension after 1st max pooling: \n",
        "[8, 16, 16, 16]\n",
        "\n",
        "\n",
        "Output dimension after 2nd conv layer: [8, 16, 8, 8]\n",
        "\n",
        "Output dimension after flatten layer:[8, 1024])\n",
        "\n",
        "\n",
        "Output dimension after 1st fully connected layer:[8, 64]\n",
        "\n",
        "\n",
        "Output dimension after 2nd fully connected layer:[8, 10]\n",
        "\n",
        "Test (on validation set) Accuracy (5 Points):\n",
        "0.569000 (56.9%)\n",
        "Test loss (5 Points):\n",
        "1.219029\n",
        "Training time (5 Points):\n",
        "124.2s\n",
        "\n",
        "Plots:\n",
        "\n",
        "- Plot a graph of accuracy on validation set vs training steps (5 Points)\n",
        "   Plot present up with code run.\n",
        "\n",
        "- Plot a graph of loss on validation set vs training steps (5 Points)\n",
        "    Plot present up with code run.\n",
        "\n",
        "\n",
        "## Part 3: Convolution Network (Add one or more  suggested changes) (35 Points)\n",
        "\n",
        "Describe the additional changes implemented, your intuition for as to why it works, you may also describe other approaches you experimented with (10 Points):\n",
        "\n",
        " 1- Added additional cnn layer - helps in extracting more features.\n",
        " \n",
        " 2- Added Dropout  - helps reducing overfitting. \n",
        " \n",
        " 3- Added batch normalization - increases stability of netwrok \n",
        " \n",
        " 4- used weight loss of 5e-4  - helps with stablizing learning.\n",
        " \n",
        " 5 - used 150 epochs (with train batch size 128 and test as 64) - increases learning speed\n",
        " \n",
        "\n",
        "Final Test Loss: 0.585225, Test Accuracy: , Total time: 2822.7s\n",
        "Test (on validation set) Accuracy (5 Points):\n",
        "0.844745(84.4745%)\n",
        "\n",
        "Test loss (5 Points):\n",
        "0.585225\n",
        "Training time (5 Points):\n",
        "2822.7s (with train batch size 128 and test as 64)\n",
        "\n",
        "Plots:\n",
        "\n",
        "- Plot a graph of accuracy on validation set vs training steps (5 Points)\n",
        "  Plot present up with code run.\n",
        "- Plot a graph of loss on validation set vs training steps (5 Points)\n",
        "  Plot present up with code run.\n",
        "10 bonus points will be awarded to top 3 scorers on leaderboard (in case of tie for 3rd position everyone tied for 3rd position will get the bonus)"
      ]
    },
    {
      "metadata": {
        "id": "qRvP3Z93APIE",
        "colab_type": "code",
        "colab": {}
      },
      "cell_type": "code",
      "source": [
        ""
      ],
      "execution_count": 0,
      "outputs": []
    }
  ]
}