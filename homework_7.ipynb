{
  "nbformat": 4,
  "nbformat_minor": 0,
  "metadata": {
    "colab": {
      "name": "homework-7.ipynb",
      "version": "0.3.2",
      "provenance": [],
      "include_colab_link": true
    },
    "kernelspec": {
      "name": "python3",
      "display_name": "Python 3"
    }
  },
  "cells": [
    {
      "cell_type": "markdown",
      "metadata": {
        "id": "view-in-github",
        "colab_type": "text"
      },
      "source": [
        "<a href=\"https://colab.research.google.com/github/ashwinamrutphale/aml-homeworks/blob/master/homework_7.ipynb\" target=\"_parent\"><img src=\"https://colab.research.google.com/assets/colab-badge.svg\" alt=\"Open In Colab\"/></a>"
      ]
    },
    {
      "metadata": {
        "id": "odufnBF5f2jA",
        "colab_type": "code",
        "colab": {}
      },
      "cell_type": "code",
      "source": [
        "import pandas as pd\n",
        "from sklearn.feature_extraction.text import CountVectorizer\n",
        "import matplotlib.pyplot as plt\n",
        "import numpy as np\n",
        "import matplotlib.patches as mpatches\n",
        "import nltk\n",
        "from sklearn.feature_extraction import stop_words\n",
        "from sklearn.neighbors import NearestNeighbors\n",
        "from sklearn.model_selection import train_test_split\n",
        "from sklearn.linear_model import LogisticRegression\n",
        "from sklearn.metrics import roc_curve, roc_auc_score,accuracy_score, recall_score, precision_score\n",
        "\n",
        "\n",
        "\n"
      ],
      "execution_count": 0,
      "outputs": []
    },
    {
      "metadata": {
        "id": "i3-rGaGLg89P",
        "colab_type": "code",
        "colab": {}
      },
      "cell_type": "code",
      "source": [
        "input_df = pd.read_csv('http://courses.engr.illinois.edu/cs498aml/sp2019/homeworks/yelp_2k.csv')\n"
      ],
      "execution_count": 0,
      "outputs": []
    },
    {
      "metadata": {
        "id": "qEbUx5R2ucXN",
        "colab_type": "code",
        "colab": {}
      },
      "cell_type": "code",
      "source": [
        "class Vector:\n",
        "  def __init__(self,vector,bag_of_words):\n",
        "    self.vector = vector\n",
        "    self.bag_of_words = bag_of_words\n",
        "    \n",
        "def plot(bag_of_words):\n",
        "  sum_words = bag_of_words.sum(axis=0) \n",
        "  f = np.sort(sum_words)\n",
        "  y = np.squeeze(np.asarray(f[0:1,::-1]))\n",
        "  x_coordinate = [i for i in range(len(y))]\n",
        "  plt.scatter(x_coordinate, y)\n",
        "  plt.show()\n",
        "\n",
        "def get_stop_words_plot(data):\n",
        "  vectorizer =CountVectorizer()\n",
        "  bag_of_words = vectorizer.fit_transform(data)\n",
        "  stop_word = []\n",
        "  plot(bag_of_words)\n",
        "  for word in stop_words.ENGLISH_STOP_WORDS:\n",
        "    if word in vectorizer.vocabulary_:\n",
        "      stop_word.append(word)\n",
        "  return stop_word\n",
        "    \n",
        "\n",
        "def get_final_bfw(data,stop_words,min_df,max_df):\n",
        "  vectorizer = CountVectorizer(stop_words=stop_words,max_df=max_df, min_df=min_df)\n",
        "  bag_of_words = vectorizer.fit_transform(data)\n",
        "  plot(bag_of_words)\n",
        "  return Vector(vectorizer,bag_of_words)\n",
        "\n",
        "def get_nearest_neighbors(data,vector,point,n):\n",
        "  neigh = NearestNeighbors(n_neighbors=n)\n",
        "  neigh.fit(vector.bag_of_words)\n",
        "  x = v.vector.transform(point)\n",
        "  r = neigh.kneighbors(x, return_distance=True) \n",
        "  return data.iloc[r[1][0]],r[0]\n",
        "\n",
        "binary = lambda x: 1 if x == 5 else 0\n",
        "\n",
        "def predict_with_threshold(clf,input_df,labels,threshold):\n",
        "  preds = np.where(clf.predict_proba(input_df)[:,1] > threshold, 1, 0)\n",
        "  return pd.DataFrame(data=[accuracy_score(labels, preds), recall_score(labels, preds),\n",
        "                   precision_score(labels, preds), roc_auc_score(labels, preds)], \n",
        "             index=[\"accuracy\", \"recall\", \"precision\", \"roc_auc_score\"])\n",
        "  \n",
        "  \n",
        "  \n",
        " \n"
      ],
      "execution_count": 0,
      "outputs": []
    },
    {
      "metadata": {
        "id": "HrUdejLEvl8h",
        "colab_type": "code",
        "outputId": "3afdfbab-6e38-42cc-bc65-b1ab80acd010",
        "colab": {
          "base_uri": "https://localhost:8080/",
          "height": 677
        }
      },
      "cell_type": "code",
      "source": [
        "words = get_stop_words_plot(input_df[\"text\"])\n",
        "v = get_final_bfw(input_df[\"text\"],words,40,400)\n",
        "# x = v.vector.transform([\"Horrible customer service\"])\n",
        "get_nearest_neighbors(input_df,v,[\"Horrible customer service\"],5)\n",
        "df_features = pd.DataFrame(v.bag_of_words.toarray())\n",
        "feature = df_features.join(input_df[\"stars\"])\n",
        "train_df,test_df = train_test_split(feature, test_size=0.10, random_state=42)\n",
        "\n"
      ],
      "execution_count": 4,
      "outputs": [
        {
          "output_type": "display_data",
          "data": {
            "image/png": "[encoded data removed]",
            "text/plain": [
              "<Figure size 576x396 with 1 Axes>"
            ]
          },
          "metadata": {
            "tags": []
          }
        },
        {
          "output_type": "display_data",
          "data": {
            "image/png": "[encoded data removed]",
            "text/plain": [
              "<Figure size 576x396 with 1 Axes>"
            ]
          },
          "metadata": {
            "tags": []
          }
        }
      ]
    },
    {
      "metadata": {
        "id": "MCdwRL86wReU",
        "colab_type": "code",
        "colab": {}
      },
      "cell_type": "code",
      "source": [
        "train_labels = train_df[\"stars\"].map(binary).values.flatten()\n",
        "test_labels = test_df[\"stars\"].map(binary).values.flatten()\n",
        "clf = LogisticRegression(random_state=0, solver='liblinear').fit(train_df.values[:,:-1],train_labels) \n"
      ],
      "execution_count": 0,
      "outputs": []
    },
    {
      "metadata": {
        "id": "7lRhRnrz0cTt",
        "colab_type": "code",
        "colab": {
          "base_uri": "https://localhost:8080/",
          "height": 34
        },
        "outputId": "6977a8e5-606b-4020-a904-5d73e5f26bea"
      },
      "cell_type": "code",
      "source": [
        "clf.score(train_df.values[:,:-1],train_labels)\n",
        "clf.score(test_df.values[:,:-1],test_labels)\n"
      ],
      "execution_count": 23,
      "outputs": [
        {
          "output_type": "execute_result",
          "data": {
            "text/plain": [
              "0.88"
            ]
          },
          "metadata": {
            "tags": []
          },
          "execution_count": 23
        }
      ]
    },
    {
      "metadata": {
        "id": "R_BA7U0815ZK",
        "colab_type": "code",
        "colab": {}
      },
      "cell_type": "code",
      "source": [
        "prob = pd.DataFrame(clf.predict_proba(train_df.values[:,:-1]))\n",
        "pred = pd.DataFrame(clf.predict(train_df.values[:,:-1]))\n",
        "prob.rename(columns={0:'pos'}, inplace=True)\n",
        "pred.rename(columns={0:'res'}, inplace=True)\n",
        "r = prob.join(pred)"
      ],
      "execution_count": 0,
      "outputs": []
    },
    {
      "metadata": {
        "id": "3gvW2_eY1-tF",
        "colab_type": "code",
        "colab": {}
      },
      "cell_type": "code",
      "source": [
        "prob"
      ],
      "execution_count": 0,
      "outputs": []
    },
    {
      "metadata": {
        "id": "xgvaOd-uZSkx",
        "colab_type": "code",
        "colab": {}
      },
      "cell_type": "code",
      "source": [
        "x1 = r.loc[r.res==1,'pos']\n",
        "x2 = r.loc[r.res==0,'pos']"
      ],
      "execution_count": 0,
      "outputs": []
    },
    {
      "metadata": {
        "id": "IGGr8CmabkIy",
        "colab_type": "code",
        "colab": {
          "base_uri": "https://localhost:8080/",
          "height": 362
        },
        "outputId": "5f30cd37-296c-4916-ee3a-b1a95b218b1c"
      },
      "cell_type": "code",
      "source": [
        "plt.hist(x1, 100, color='b', label='negative')\n",
        "plt.hist(x2, 100, color='r', label='posetive')\n",
        "plt.gca().set(title='Frequency Histogram', ylabel='Frequency')\n",
        "plt.legend();"
      ],
      "execution_count": 51,
      "outputs": [
        {
          "output_type": "display_data",
          "data": {
            "image/png": "[encoded data removed]",
            "text/plain": [
              "<Figure size 576x396 with 1 Axes>"
            ]
          },
          "metadata": {
            "tags": []
          }
        }
      ]
    },
    {
      "metadata": {
        "id": "1eQOHIYIcdlE",
        "colab_type": "code",
        "colab": {}
      },
      "cell_type": "code",
      "source": [
        "fpr, tpr,_=roc_curve(clf.predict(test_df.values[:,:-1]),test_labels,drop_intermediate=False)"
      ],
      "execution_count": 0,
      "outputs": []
    },
    {
      "metadata": {
        "id": "XWd3WuVOdImn",
        "colab_type": "code",
        "colab": {
          "base_uri": "https://localhost:8080/",
          "height": 376
        },
        "outputId": "93f7f527-b406-4e65-c2ad-ff5d0d19c6be"
      },
      "cell_type": "code",
      "source": [
        "plt.figure()\n",
        "##Adding the ROC\n",
        "plt.plot(fpr, tpr, color='red',\n",
        " lw=2, label='ROC curve')\n",
        "##Random FPR and TPR\n",
        "plt.plot([0, 1], [0, 1], color='blue', lw=2, linestyle='--')\n",
        "##Title and label\n",
        "plt.xlabel('FPR')\n",
        "plt.ylabel('TPR')\n",
        "plt.title('ROC curve')\n",
        "plt.show()"
      ],
      "execution_count": 31,
      "outputs": [
        {
          "output_type": "display_data",
          "data": {
            "image/png": "[encoded data removed]",
            "text/plain": [
              "<Figure size 576x396 with 1 Axes>"
            ]
          },
          "metadata": {
            "tags": []
          }
        }
      ]
    },
    {
      "metadata": {
        "id": "mW73ldgsRqr5",
        "colab_type": "code",
        "colab": {
          "base_uri": "https://localhost:8080/",
          "height": 34
        },
        "outputId": "58fe4f1f-d0b9-4564-93c2-b21147174b3a"
      },
      "cell_type": "code",
      "source": [
        "roc_auc_score(clf.predict(train_df.values[:,:-1]),train_labels)\n"
      ],
      "execution_count": 29,
      "outputs": [
        {
          "output_type": "execute_result",
          "data": {
            "text/plain": [
              "0.9668756391445467"
            ]
          },
          "metadata": {
            "tags": []
          },
          "execution_count": 29
        }
      ]
    },
    {
      "metadata": {
        "id": "C_37sO6CWEsx",
        "colab_type": "code",
        "colab": {
          "base_uri": "https://localhost:8080/",
          "height": 173
        },
        "outputId": "b9374c45-0acc-48ab-9c87-81cf77a6748a"
      },
      "cell_type": "code",
      "source": [
        "v = predict_with_threshold(clf,train_df.values[:,:-1],train_labels,0.1)\n",
        "v"
      ],
      "execution_count": 69,
      "outputs": [
        {
          "output_type": "execute_result",
          "data": {
            "text/html": [
              "<div>\n",
              "<style scoped>\n",
              "    .dataframe tbody tr th:only-of-type {\n",
              "        vertical-align: middle;\n",
              "    }\n",
              "\n",
              "    .dataframe tbody tr th {\n",
              "        vertical-align: top;\n",
              "    }\n",
              "\n",
              "    .dataframe thead th {\n",
              "        text-align: right;\n",
              "    }\n",
              "</style>\n",
              "<table border=\"1\" class=\"dataframe\">\n",
              "  <thead>\n",
              "    <tr style=\"text-align: right;\">\n",
              "      <th></th>\n",
              "      <th>0</th>\n",
              "    </tr>\n",
              "  </thead>\n",
              "  <tbody>\n",
              "    <tr>\n",
              "      <th>accuracy</th>\n",
              "      <td>0.862778</td>\n",
              "    </tr>\n",
              "    <tr>\n",
              "      <th>recall</th>\n",
              "      <td>1.000000</td>\n",
              "    </tr>\n",
              "    <tr>\n",
              "      <th>precision</th>\n",
              "      <td>0.784279</td>\n",
              "    </tr>\n",
              "    <tr>\n",
              "      <th>roc_auc_score</th>\n",
              "      <td>0.863082</td>\n",
              "    </tr>\n",
              "  </tbody>\n",
              "</table>\n",
              "</div>"
            ],
            "text/plain": [
              "                      0\n",
              "accuracy       0.862778\n",
              "recall         1.000000\n",
              "precision      0.784279\n",
              "roc_auc_score  0.863082"
            ]
          },
          "metadata": {
            "tags": []
          },
          "execution_count": 69
        }
      ]
    },
    {
      "metadata": {
        "id": "_ftdQfn8iJ4C",
        "colab_type": "code",
        "colab": {}
      },
      "cell_type": "code",
      "source": [
        ""
      ],
      "execution_count": 0,
      "outputs": []
    }
  ]
}