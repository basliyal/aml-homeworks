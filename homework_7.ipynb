{
  "nbformat": 4,
  "nbformat_minor": 0,
  "metadata": {
    "colab": {
      "name": "homework-7.ipynb",
      "version": "0.3.2",
      "provenance": [],
      "include_colab_link": true
    },
    "kernelspec": {
      "name": "python3",
      "display_name": "Python 3"
    }
  },
  "cells": [
    {
      "cell_type": "markdown",
      "metadata": {
        "id": "view-in-github",
        "colab_type": "text"
      },
      "source": [
        "<a href=\"https://colab.research.google.com/github/ashwinamrutphale/aml-homeworks/blob/master/homework_7.ipynb\" target=\"_parent\"><img src=\"https://colab.research.google.com/assets/colab-badge.svg\" alt=\"Open In Colab\"/></a>"
      ]
    },
    {
      "metadata": {
        "id": "odufnBF5f2jA",
        "colab_type": "code",
        "colab": {}
      },
      "cell_type": "code",
      "source": [
        "import pandas as pd\n",
        "from sklearn.feature_extraction.text import CountVectorizer\n",
        "import matplotlib.pyplot as plt\n",
        "import numpy as np\n",
        "import matplotlib.patches as mpatches\n",
        "import nltk\n",
        "from sklearn.feature_extraction import stop_words\n",
        "from sklearn.neighbors import NearestNeighbors\n",
        "\n",
        "\n"
      ],
      "execution_count": 0,
      "outputs": []
    },
    {
      "metadata": {
        "id": "i3-rGaGLg89P",
        "colab_type": "code",
        "colab": {}
      },
      "cell_type": "code",
      "source": [
        "input_df = pd.read_csv('http://courses.engr.illinois.edu/cs498aml/sp2019/homeworks/yelp_2k.csv')\n"
      ],
      "execution_count": 0,
      "outputs": []
    },
    {
      "metadata": {
        "id": "qEbUx5R2ucXN",
        "colab_type": "code",
        "colab": {}
      },
      "cell_type": "code",
      "source": [
        "class Vector:\n",
        "  def __init__(self,vector,bag_of_words):\n",
        "    self.vector = vector\n",
        "    self.bag_of_words = bag_of_words\n",
        "    \n",
        "def plot(bag_of_words):\n",
        "  sum_words = bag_of_words.sum(axis=0) \n",
        "  f = np.sort(sum_words)\n",
        "  y = np.squeeze(np.asarray(f[0:1,::-1]))\n",
        "  x_coordinate = [i for i in range(len(y))]\n",
        "  plt.scatter(x_coordinate, y)\n",
        "  plt.show()\n",
        "\n",
        "def get_stop_words_plot(data):\n",
        "  vectorizer =CountVectorizer()\n",
        "  bag_of_words = vectorizer.fit_transform(data)\n",
        "  stop_word = []\n",
        "  plot(bag_of_words)\n",
        "  for word in stop_words.ENGLISH_STOP_WORDS:\n",
        "    if word in vectorizer.vocabulary_:\n",
        "      stop_word.append(word)\n",
        "  return stop_word\n",
        "    \n",
        "\n",
        "def get_final_bfw(data,stop_words,min_df,max_df):\n",
        "  vectorizer = CountVectorizer(stop_words=stop_words,max_df=max_df, min_df=min_df)\n",
        "  bag_of_words = vectorizer.fit_transform(data)\n",
        "  plot(bag_of_words)\n",
        "  return Vector(vectorizer,bag_of_words)\n",
        "\n",
        "def get_nearest_neighbors(data,vector,point,n):\n",
        "  neigh = NearestNeighbors(n_neighbors=n)\n",
        "  neigh.fit(vector.bag_of_words)\n",
        "  x = v.vector.transform(point)\n",
        "  r = neigh.kneighbors(x, return_distance=True) \n",
        "  return data.iloc[r[1][0]],r[0]\n",
        "  \n",
        "  \n",
        "  \n",
        " \n"
      ],
      "execution_count": 0,
      "outputs": []
    },
    {
      "metadata": {
        "id": "HrUdejLEvl8h",
        "colab_type": "code",
        "outputId": "d6bb41c9-9c84-4fc3-a983-2afdb6ea6fc0",
        "colab": {
          "base_uri": "https://localhost:8080/",
          "height": 1034
        }
      },
      "cell_type": "code",
      "source": [
        "words = get_stop_words_plot(input_df[\"text\"])\n",
        "v = get_final_bfw(input_df[\"text\"],words,40,400)\n",
        "# x = v.vector.transform([\"Horrible customer service\"])\n",
        "get_nearest_neighbors(input_df,v,[\"Horrible customer service\"],5)\n"
      ],
      "execution_count": 61,
      "outputs": [
        {
          "output_type": "display_data",
          "data": {
            "image/png": "[encoded data removed]",
            "text/plain": [
              "<Figure size 576x396 with 1 Axes>"
            ]
          },
          "metadata": {
            "tags": []
          }
        },
        {
          "output_type": "display_data",
          "data": {
            "image/png": "[encoded data removed]",
            "text/plain": [
              "<Figure size 576x396 with 1 Axes>"
            ]
          },
          "metadata": {
            "tags": []
          }
        },
        {
          "output_type": "execute_result",
          "data": {
            "text/plain": [
              "(                   review_id                 user_id             business_id  \\\n",
              " 581   2LfLK_N-phmub7tpVu5Zqw  jVHNHKzPox0VApUS4DXPwg  7fdg1_YtLZcIpP3oWXvQBg   \n",
              " 1213  IV9A9j8FUGGD6BXEzCn-VQ  MUJ9E6mHpdJvHI1G82ypow  FXNa72JCrnGx1wMKw7LAew   \n",
              " 198   9UGMPapU9pV8Z3e3_7W1gg  gR6QY5A9rYO1A5_ihPUiYg  dRK_RhhF23sDIYzqbobD0Q   \n",
              " 1335  6ShR5SSGfR_XrTORzCUkKQ  on59XgfWL87F7vrSR5FuNA  u3h41mmJ30NgURHf6ik_ag   \n",
              " 1043  nkJAg3udCbQfdfXjdTaLmw  jT9XoMFZqaXygTzmcbvo-g  NMw6zTXoZDEzNchVIfL1pQ   \n",
              " \n",
              "       stars        date                                               text  \\\n",
              " 581       1  2016-02-27  This attorney is the stereotype of attorneys. ...   \n",
              " 1213      1  2011-10-03  Nun griechisch, ja! Nett nein, und gutes essen...   \n",
              " 198       1  2014-04-17  Je vous déconseille fortement cette place !! I...   \n",
              " 1335      1  2016-06-09  Horrible attorney.  Defend yourself before hir...   \n",
              " 1043      5  2016-07-16  For NC the food was good. Try the carnitas de ...   \n",
              " \n",
              "       useful  funny  cool  \n",
              " 581       10      1     1  \n",
              " 1213       0      0     0  \n",
              " 198       14      2     1  \n",
              " 1335       0      0     0  \n",
              " 1043       0      0     0  ,\n",
              " array([[1.41421356, 1.41421356, 1.41421356, 1.73205081, 1.73205081]]))"
            ]
          },
          "metadata": {
            "tags": []
          },
          "execution_count": 61
        }
      ]
    },
    {
      "metadata": {
        "id": "MCdwRL86wReU",
        "colab_type": "code",
        "colab": {}
      },
      "cell_type": "code",
      "source": [
        "\n"
      ],
      "execution_count": 0,
      "outputs": []
    },
    {
      "metadata": {
        "id": "7lRhRnrz0cTt",
        "colab_type": "code",
        "colab": {}
      },
      "cell_type": "code",
      "source": [
        ""
      ],
      "execution_count": 0,
      "outputs": []
    },
    {
      "metadata": {
        "id": "R_BA7U0815ZK",
        "colab_type": "code",
        "colab": {}
      },
      "cell_type": "code",
      "source": [
        ""
      ],
      "execution_count": 0,
      "outputs": []
    },
    {
      "metadata": {
        "id": "3gvW2_eY1-tF",
        "colab_type": "code",
        "colab": {}
      },
      "cell_type": "code",
      "source": [
        ""
      ],
      "execution_count": 0,
      "outputs": []
    }
  ]
}