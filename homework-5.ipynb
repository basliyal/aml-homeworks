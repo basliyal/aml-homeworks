{
  "nbformat": 4,
  "nbformat_minor": 0,
  "metadata": {
    "colab": {
      "name": "Untitled4.ipynb",
      "version": "0.3.2",
      "provenance": [],
      "include_colab_link": true
    },
    "kernelspec": {
      "name": "python2",
      "display_name": "Python 2"
    }
  },
  "cells": [
    {
      "cell_type": "markdown",
      "metadata": {
        "id": "view-in-github",
        "colab_type": "text"
      },
      "source": [
        "<a href=\"https://colab.research.google.com/github/ashwinamrutphale/aml-homeworks/blob/master/homework-5.ipynb\" target=\"_parent\"><img src=\"https://colab.research.google.com/assets/colab-badge.svg\" alt=\"Open In Colab\"/></a>"
      ]
    },
    {
      "metadata": {
        "id": "gMxDP3XIXqhU",
        "colab_type": "code",
        "outputId": "7344dab8-92f1-4647-c5db-708ec83f986f",
        "colab": {
          "base_uri": "https://localhost:8080/",
          "height": 34
        }
      },
      "cell_type": "code",
      "source": [
        "from google.colab import drive\n",
        "from google.colab import files\n",
        "drive.mount('/content/gdrive')\n",
        "import pickle\n",
        "import matplotlib.pyplot as plt\n",
        "import matplotlib.patches as mpatches\n",
        "import matplotlib.image as mpimg\n",
        "import numpy as np\n",
        "from sklearn.decomposition import PCA\n",
        "from sklearn.metrics.pairwise import euclidean_distances\n",
        "import pandas as pd\n",
        "import scipy as sp\n",
        "from sklearn.preprocessing import StandardScaler\n",
        "from sklearn.cluster import KMeans\n",
        "from sklearn.ensemble import RandomForestClassifier\n",
        "from sklearn.model_selection import train_test_split\n",
        "from skimage.util.shape import view_as_windows\n",
        "import glob"
      ],
      "execution_count": 36,
      "outputs": [
        {
          "output_type": "stream",
          "text": [
            "Drive already mounted at /content/gdrive; to attempt to forcibly remount, call drive.mount(\"/content/gdrive\", force_remount=True).\n"
          ],
          "name": "stdout"
        }
      ]
    },
    {
      "metadata": {
        "id": "0LWIoS3rYUEi",
        "colab_type": "code",
        "colab": {}
      },
      "cell_type": "code",
      "source": [
        "activities = ['brush_teeth','drink_glass','climb_stairs','pour_water',\n",
        "          'use_telephone','eat_meat','walk','comb_hair','eat_soup',\n",
        "          'descend_stairs','getup_bed','sitdown_chair','liedown_bed','standup_chair']\n",
        "\n",
        "def segment_file(d_input,w):\n",
        "  window_shape = (32,3)  \n",
        "  c = view_as_windows(d_input.values,window_shape)\n",
        "  d = c[:w,:,:]\n",
        "  return pd.DataFrame(d.reshape(w,96))\n",
        "\n",
        "def loadall_and_slice(w):\n",
        "  df = pd.DataFrame()\n",
        "  fid = 0\n",
        "  feature = 0\n",
        "  for fol in activities:\n",
        "      print (fol)\n",
        "      file_path = glob.glob('/content/gdrive/''My Drive''/aml-homeworks/homework5/HMP_Dataset/' + fol + '/*.txt')\n",
        "      for file in file_path:\n",
        "          temp_df=pd.read_csv(file, sep = \" \", names=['a','b','c'])\n",
        "          slice_df = segment_file(temp_df,w)\n",
        "          slice_df['fid'] = fid\n",
        "          slice_df['feature'] = feature\n",
        "          df = df.append(slice_df) \n",
        "          fid += 1\n",
        "      feature += 1\n",
        "  return df\n",
        "\n",
        "def compute_kmeans(k,df_input):\n",
        "  return KMeans(n_clusters=k, random_state=0).fit(df_input.values[:,:96])\n",
        "\n",
        "def compute_feature_vector(df_input,kmeans,k):\n",
        "  unq = np.unique(kmeans.predict(df_input.values[:,:96]),return_counts=True)\n",
        "  a = np.zeros((k,), dtype=int)\n",
        "  for i in range(len(unq[1])):\n",
        "    a[unq[0][i]] = unq[1][i]\n",
        "  return a  \n",
        "\n",
        "def plot_hist(feature,k,f):\n",
        "  arr = np.mean(feature.values[:,:k],axis=1)\n",
        "  plt.bar(range(len(arr)), arr, width=5, label='0')\n",
        "  plt.xlabel(activities[f], fontsize=10)\n",
        "  plt.show()\n",
        "  \n",
        "  \n",
        "\n",
        "##################################################################################\n",
        "def train_and_predict(train,test,k):\n",
        "  clf = RandomForestClassifier(n_estimator=10,max_depth=4,random_state=0)\n",
        "  clf.fit(train[:,:k],train[:,-1])\n",
        "  return clf.predict(test[:,:k])\n",
        "\n",
        "def label_race(row):\n",
        "  if row[0] == row[1]:\n",
        "    return 1\n",
        "  else:\n",
        "    return 0\n",
        "\n",
        "def compute_acc(df_original,df_predict):\n",
        "  d = df_original.join(df_predict)\n",
        "  d2 = d.apply (lambda row: label_race(row),axis=1)\n",
        "  return d2[[1]].sum()/len(d2)\n",
        "  \n",
        "def consufion_matrix(df_original,df_predict):\n",
        "  return pd.crosstab(df_original['Activities'], df_predict, rownames=['Actual Activities'], colnames=['Predicted Activities'])\n",
        "   \n",
        "def main_compute(k,w):\n",
        "  total_df = loadall_and_slice(w)\n",
        "  print('computing kmeans')\n",
        "  kmeans = compute_kmeans(k,total_df)\n",
        "\n",
        "  \n",
        "def process_data(total_df,kmeans,k):\n",
        "  df_vectors = pd.DataFrame()\n",
        "  #for f in range(total_df['fid'].max()):\n",
        "  for f in range(1):\n",
        "    print('processing file ' + `f`)\n",
        "    file = f\n",
        "    d2 = total_df.loc[total_df['fid'] == f]\n",
        "    #print(d2)\n",
        "    feature = total_df['feature'].max()\n",
        "#    print(compute_feature_vector(d2,kmeans,k))\n",
        "    feature_vector = pd.DataFrame(compute_feature_vector(d2,kmeans,k))\n",
        "#     feature_vector['fid'] = f\n",
        "#     feature_vector['feature'] = feature\n",
        "    print(feature_vector)\n",
        "#     df_vectors.append(feature_vector)\n",
        "#  print(df_vectors)\n",
        "#   for activity in range(14):\n",
        "#     plot_hist(df_vectors.loc[total_df['feature'] == activity],k,activity)  \n",
        "  \n",
        "  \n",
        "#   #TODO:\n",
        "#   #for each label(eg brush_teeth)\n",
        "#   train,test = train_test_split(final_features,test_size=0.33, random_state=10)\n",
        "#   predict  =  train_and_predict(train,test,k) "
      ],
      "execution_count": 0,
      "outputs": []
    },
    {
      "metadata": {
        "id": "bNaNwxESDCkD",
        "colab_type": "code",
        "colab": {}
      },
      "cell_type": "code",
      "source": [
        "df = pd.read_csv('/content/gdrive/''My Drive''/aml-homeworks/homework5/HMP_Dataset/climb_stairs/Accelerometer-2011-03-24-10-24-39-climb_stairs-f1.txt',delim_whitespace=True)\n"
      ],
      "execution_count": 0,
      "outputs": []
    },
    {
      "metadata": {
        "id": "Mm1SglvaD4HK",
        "colab_type": "code",
        "colab": {}
      },
      "cell_type": "code",
      "source": [
        ""
      ],
      "execution_count": 0,
      "outputs": []
    },
    {
      "metadata": {
        "id": "mO-dYQNIEGZ7",
        "colab_type": "code",
        "outputId": "ce4ae651-5942-4e0c-b7dd-68933121669d",
        "colab": {
          "base_uri": "https://localhost:8080/",
          "height": 136
        }
      },
      "cell_type": "code",
      "source": [
        "d.reshape(32,96)"
      ],
      "execution_count": 30,
      "outputs": [
        {
          "output_type": "execute_result",
          "data": {
            "text/plain": [
              "array([[ 2, 41, 34, ..., 18, 35, 35],\n",
              "       [ 5, 39, 34, ..., 18, 36, 37],\n",
              "       [12, 38, 34, ..., 17, 37, 35],\n",
              "       ...,\n",
              "       [14, 33, 32, ..., 15, 36, 30],\n",
              "       [16, 35, 35, ..., 13, 38, 33],\n",
              "       [18, 35, 35, ..., 13, 39, 32]])"
            ]
          },
          "metadata": {
            "tags": []
          },
          "execution_count": 30
        }
      ]
    },
    {
      "metadata": {
        "id": "ex9PNGPnUeeN",
        "colab_type": "code",
        "colab": {}
      },
      "cell_type": "code",
      "source": [
        ""
      ],
      "execution_count": 0,
      "outputs": []
    },
    {
      "metadata": {
        "id": "c809Y2E_QZJn",
        "colab_type": "code",
        "colab": {
          "base_uri": "https://localhost:8080/",
          "height": 255
        },
        "outputId": "b5d31b48-3a2f-48a1-9fee-ec60f2e165c6"
      },
      "cell_type": "code",
      "source": [
        "d1 = loadall_and_slice(32)\n",
        "#len(d1)"
      ],
      "execution_count": 125,
      "outputs": [
        {
          "output_type": "stream",
          "text": [
            "brush_teeth\n",
            "drink_glass\n",
            "climb_stairs\n",
            "pour_water\n",
            "use_telephone\n",
            "eat_meat\n",
            "walk\n",
            "comb_hair\n",
            "eat_soup\n",
            "descend_stairs\n",
            "getup_bed\n",
            "sitdown_chair\n",
            "liedown_bed\n",
            "standup_chair\n"
          ],
          "name": "stdout"
        }
      ]
    },
    {
      "metadata": {
        "id": "bZk7MQAxQeNu",
        "colab_type": "code",
        "colab": {}
      },
      "cell_type": "code",
      "source": [
        "km = compute_kmeans(480,d1)"
      ],
      "execution_count": 0,
      "outputs": []
    },
    {
      "metadata": {
        "id": "aD6B21kLefhe",
        "colab_type": "code",
        "colab": {
          "base_uri": "https://localhost:8080/",
          "height": 1122
        },
        "outputId": "eb2b987a-6e2a-4705-8efc-a35ddc2d0de1"
      },
      "cell_type": "code",
      "source": [
        "process_data(d1,km,480)"
      ],
      "execution_count": 169,
      "outputs": [
        {
          "output_type": "stream",
          "text": [
            "processing file 0\n",
            "     0\n",
            "0    0\n",
            "1    0\n",
            "2    0\n",
            "3    0\n",
            "4    0\n",
            "5    0\n",
            "6    0\n",
            "7    0\n",
            "8    0\n",
            "9    0\n",
            "10   0\n",
            "11   0\n",
            "12   0\n",
            "13   0\n",
            "14   0\n",
            "15   0\n",
            "16   0\n",
            "17   0\n",
            "18   0\n",
            "19   0\n",
            "20   0\n",
            "21   0\n",
            "22   0\n",
            "23   0\n",
            "24   0\n",
            "25   0\n",
            "26   0\n",
            "27   0\n",
            "28   0\n",
            "29   0\n",
            "..  ..\n",
            "450  0\n",
            "451  0\n",
            "452  0\n",
            "453  0\n",
            "454  0\n",
            "455  0\n",
            "456  0\n",
            "457  0\n",
            "458  0\n",
            "459  0\n",
            "460  0\n",
            "461  0\n",
            "462  0\n",
            "463  0\n",
            "464  0\n",
            "465  0\n",
            "466  0\n",
            "467  0\n",
            "468  0\n",
            "469  0\n",
            "470  0\n",
            "471  0\n",
            "472  0\n",
            "473  0\n",
            "474  0\n",
            "475  0\n",
            "476  0\n",
            "477  0\n",
            "478  0\n",
            "479  0\n",
            "\n",
            "[480 rows x 1 columns]\n"
          ],
          "name": "stdout"
        }
      ]
    },
    {
      "metadata": {
        "id": "jJciTqQFfPdQ",
        "colab_type": "code",
        "colab": {}
      },
      "cell_type": "code",
      "source": [
        "f_v = compute_feature_vector(d_t,km,480)\n"
      ],
      "execution_count": 0,
      "outputs": []
    },
    {
      "metadata": {
        "id": "ftFQtPzxf0UA",
        "colab_type": "code",
        "colab": {}
      },
      "cell_type": "code",
      "source": [
        "t = np.unique(f_v,return_counts=True)\n",
        "df_input"
      ],
      "execution_count": 0,
      "outputs": []
    },
    {
      "metadata": {
        "id": "74xQ3T6ugNq0",
        "colab_type": "code",
        "colab": {
          "base_uri": "https://localhost:8080/",
          "height": 361
        },
        "outputId": "fa533c2c-132e-4fd8-b915-eaf538bfde29"
      },
      "cell_type": "code",
      "source": [
        "plot_hist(pd.DataFrame(f_v),480,1)"
      ],
      "execution_count": 114,
      "outputs": [
        {
          "output_type": "display_data",
          "data": {
            "image/png": "[encoded data removed]",
            "text/plain": [
              "<Figure size 576x396 with 1 Axes>"
            ]
          },
          "metadata": {
            "tags": []
          }
        }
      ]
    },
    {
      "metadata": {
        "id": "kzGOsTkIjBOx",
        "colab_type": "code",
        "colab": {}
      },
      "cell_type": "code",
      "source": [
        "d1\n",
        "#d1['fid'].max()"
      ],
      "execution_count": 0,
      "outputs": []
    },
    {
      "metadata": {
        "id": "6GsqPhBwOsKa",
        "colab_type": "code",
        "colab": {
          "base_uri": "https://localhost:8080/",
          "height": 391
        },
        "outputId": "b60cb79b-56fc-4779-cd97-7091ce367dda"
      },
      "cell_type": "code",
      "source": [
        "f_v"
      ],
      "execution_count": 139,
      "outputs": [
        {
          "output_type": "execute_result",
          "data": {
            "text/plain": [
              "array([0, 0, 0, 0, 0, 0, 0, 0, 0, 0, 0, 0, 2, 0, 0, 0, 0, 0, 0, 0, 0, 0,\n",
              "       0, 0, 0, 0, 0, 0, 0, 0, 0, 0, 0, 0, 0, 0, 0, 0, 0, 0, 2, 0, 0, 0,\n",
              "       0, 0, 0, 0, 0, 0, 0, 0, 0, 0, 0, 0, 0, 0, 0, 0, 0, 0, 0, 0, 0, 0,\n",
              "       0, 0, 0, 0, 0, 0, 0, 0, 0, 0, 0, 0, 0, 0, 0, 0, 0, 2, 0, 0, 0, 0,\n",
              "       0, 0, 0, 0, 0, 0, 0, 0, 0, 0, 2, 0, 2, 0, 0, 0, 0, 0, 0, 0, 0, 0,\n",
              "       0, 0, 4, 0, 0, 0, 0, 0, 0, 0, 0, 0, 0, 0, 0, 0, 0, 0, 0, 0, 0, 0,\n",
              "       0, 0, 0, 0, 0, 2, 0, 0, 0, 0, 0, 0, 0, 0, 0, 0, 0, 2, 0, 0, 0, 0,\n",
              "       0, 0, 0, 0, 0, 0, 0, 0, 0, 0, 0, 0, 0, 0, 0, 0, 0, 0, 0, 0, 0, 0,\n",
              "       0, 0, 0, 0, 0, 0, 0, 0, 0, 0, 0, 0, 0, 0, 0, 0, 0, 0, 0, 0, 0, 0,\n",
              "       0, 0, 0, 0, 0, 0, 0, 0, 0, 0, 0, 0, 0, 0, 0, 0, 0, 0, 0, 0, 0, 0,\n",
              "       0, 0, 0, 0, 0, 0, 0, 0, 0, 0, 0, 0, 2, 0, 0, 0, 0, 0, 0, 0, 0, 0,\n",
              "       0, 0, 0, 0, 0, 0, 0, 0, 0, 0, 0, 0, 0, 0, 0, 0, 4, 3, 0, 0, 0, 0,\n",
              "       0, 0, 0, 0, 0, 0, 0, 0, 0, 0, 0, 0, 0, 0, 0, 0, 0, 0, 0, 0, 0, 0,\n",
              "       0, 0, 0, 0, 0, 0, 0, 0, 0, 0, 0, 0, 0, 0, 0, 2, 0, 0, 0, 0, 0, 0,\n",
              "       0, 0, 0, 0, 0, 0, 0, 0, 0, 0, 0, 0, 0, 0, 0, 0, 0, 0, 0, 0, 0, 0,\n",
              "       0, 0, 0, 0, 0, 0, 0, 0, 0, 0, 0, 0, 0, 0, 0, 0, 0, 0, 0, 0, 0, 0,\n",
              "       0, 0, 0, 0, 0, 0, 0, 0, 0, 0, 0, 0, 0, 0, 0, 0, 0, 0, 0, 0, 0, 0,\n",
              "       0, 0, 0, 0, 0, 0, 0, 0, 0, 0, 0, 0, 0, 0, 0, 0, 0, 0, 0, 0, 0, 0,\n",
              "       0, 0, 0, 0, 0, 0, 0, 0, 0, 0, 0, 0, 0, 0, 0, 0, 0, 0, 0, 0, 0, 0,\n",
              "       0, 0, 0, 0, 0, 0, 0, 0, 0, 0, 0, 0, 0, 0, 0, 0, 0, 0, 0, 0, 0, 0,\n",
              "       0, 0, 0, 0, 0, 0, 0, 0, 0, 0, 0, 0, 0, 0, 0, 0, 0, 0, 0, 0, 0, 0,\n",
              "       0, 0, 0, 0, 0, 0, 0, 3, 0, 0, 0, 0, 0, 0, 0, 0, 0, 0])"
            ]
          },
          "metadata": {
            "tags": []
          },
          "execution_count": 139
        }
      ]
    },
    {
      "metadata": {
        "id": "4amEUqp7StI_",
        "colab_type": "code",
        "colab": {}
      },
      "cell_type": "code",
      "source": [
        ""
      ],
      "execution_count": 0,
      "outputs": []
    }
  ]
}