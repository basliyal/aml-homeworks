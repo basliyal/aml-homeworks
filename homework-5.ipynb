{
  "nbformat": 4,
  "nbformat_minor": 0,
  "metadata": {
    "colab": {
      "name": "Untitled4.ipynb",
      "version": "0.3.2",
      "provenance": [],
      "include_colab_link": true
    },
    "kernelspec": {
      "name": "python2",
      "display_name": "Python 2"
    }
  },
  "cells": [
    {
      "cell_type": "markdown",
      "metadata": {
        "id": "view-in-github",
        "colab_type": "text"
      },
      "source": [
        "<a href=\"https://colab.research.google.com/github/ashwinamrutphale/aml-homeworks/blob/master/homework-5.ipynb\" target=\"_parent\"><img src=\"https://colab.research.google.com/assets/colab-badge.svg\" alt=\"Open In Colab\"/></a>"
      ]
    },
    {
      "metadata": {
        "id": "gMxDP3XIXqhU",
        "colab_type": "code",
        "colab": {
          "base_uri": "https://localhost:8080/",
          "height": 34
        },
        "outputId": "8e16bc66-3966-4626-c0ce-cb75238a3cb6"
      },
      "cell_type": "code",
      "source": [
        "from google.colab import drive\n",
        "from google.colab import files\n",
        "drive.mount('/content/gdrive')\n",
        "import pickle\n",
        "import matplotlib.pyplot as plt\n",
        "import matplotlib.patches as mpatches\n",
        "import matplotlib.image as mpimg\n",
        "import numpy as np\n",
        "from sklearn.decomposition import PCA\n",
        "from sklearn.metrics.pairwise import euclidean_distances\n",
        "import pandas as pd\n",
        "import scipy as sp\n",
        "from sklearn.preprocessing import StandardScaler\n",
        "from sklearn.cluster import KMeans\n",
        "from sklearn.ensemble import RandomForestClassifier\n"
      ],
      "execution_count": 24,
      "outputs": [
        {
          "output_type": "stream",
          "text": [
            "Drive already mounted at /content/gdrive; to attempt to forcibly remount, call drive.mount(\"/content/gdrive\", force_remount=True).\n"
          ],
          "name": "stdout"
        }
      ]
    },
    {
      "metadata": {
        "id": "0LWIoS3rYUEi",
        "colab_type": "code",
        "colab": {}
      },
      "cell_type": "code",
      "source": [
        "activities = ['Brush_teeth','Drink_glass','Climb_stairs','Pour_water',\n",
        "          'Use_telephone','Eat_meat','Walk','Comb_hair','Eat_soup',\n",
        "          'Descend_stairs','Getup_bed','Sitdown_chair','Liedown_bed','Standup_chair']\n",
        "\n",
        "def compute_kmeans(k,df_input):\n",
        "  return KMeans(n_clusters=k, random_state=0).fit(df_input)\n",
        "\n",
        "def compute_feature_vector(ds,kmeans):\n",
        "  return np.unique(kmeans.predict(df),return_counts=True)[1]\n",
        "\n",
        "\n",
        "def train_and_predict(train,test,k):\n",
        "  clf = RandomForestClassifier(n_estimator=10,max_depth=4,random_state=0)\n",
        "  features = train.columns[:k]\n",
        "  y = pd.factorize(train['activity'])[0]\n",
        "  clf.fit(train[features],y)\n",
        "  clf.predict(test[k])\n",
        "  \n",
        "  \n",
        "  \n"
      ],
      "execution_count": 0,
      "outputs": []
    },
    {
      "metadata": {
        "id": "bNaNwxESDCkD",
        "colab_type": "code",
        "colab": {}
      },
      "cell_type": "code",
      "source": [
        "df = pd.read_csv('/content/gdrive/''My Drive''/aml-homeworks/homework5/Accelerometer-2011-03-24-10-24-39-climb_stairs-f1.txt',delim_whitespace=True)\n"
      ],
      "execution_count": 0,
      "outputs": []
    },
    {
      "metadata": {
        "id": "Mm1SglvaD4HK",
        "colab_type": "code",
        "colab": {
          "base_uri": "https://localhost:8080/",
          "height": 34
        },
        "outputId": "a75045c9-abda-435a-89c6-12d07ad1b1c0"
      },
      "cell_type": "code",
      "source": [
        "f = compute_feature_vector(df,compute_kmeans(5,df))\n",
        "f\n",
        "#np.unique(f, return_counts=True)[1]"
      ],
      "execution_count": 23,
      "outputs": [
        {
          "output_type": "execute_result",
          "data": {
            "text/plain": [
              "array([56, 39, 45, 54, 75])"
            ]
          },
          "metadata": {
            "tags": []
          },
          "execution_count": 23
        }
      ]
    },
    {
      "metadata": {
        "id": "mO-dYQNIEGZ7",
        "colab_type": "code",
        "colab": {
          "base_uri": "https://localhost:8080/",
          "height": 34
        },
        "outputId": "845dfd5b-ca3b-4ada-9de9-56a20618d77f"
      },
      "cell_type": "code",
      "source": [
        "len(activities)"
      ],
      "execution_count": 30,
      "outputs": [
        {
          "output_type": "execute_result",
          "data": {
            "text/plain": [
              "14"
            ]
          },
          "metadata": {
            "tags": []
          },
          "execution_count": 30
        }
      ]
    },
    {
      "metadata": {
        "id": "ex9PNGPnUeeN",
        "colab_type": "code",
        "colab": {}
      },
      "cell_type": "code",
      "source": [
        ""
      ],
      "execution_count": 0,
      "outputs": []
    }
  ]
}