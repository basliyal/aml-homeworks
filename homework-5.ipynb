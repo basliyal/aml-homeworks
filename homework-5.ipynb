{
  "nbformat": 4,
  "nbformat_minor": 0,
  "metadata": {
    "colab": {
      "name": "Untitled4.ipynb",
      "version": "0.3.2",
      "provenance": [],
      "include_colab_link": true
    },
    "kernelspec": {
      "name": "python2",
      "display_name": "Python 2"
    }
  },
  "cells": [
    {
      "cell_type": "markdown",
      "metadata": {
        "id": "view-in-github",
        "colab_type": "text"
      },
      "source": [
        "<a href=\"https://colab.research.google.com/github/ashwinamrutphale/aml-homeworks/blob/master/homework-5.ipynb\" target=\"_parent\"><img src=\"https://colab.research.google.com/assets/colab-badge.svg\" alt=\"Open In Colab\"/></a>"
      ]
    },
    {
      "metadata": {
        "id": "gMxDP3XIXqhU",
        "colab_type": "code",
        "outputId": "7344dab8-92f1-4647-c5db-708ec83f986f",
        "colab": {
          "base_uri": "https://localhost:8080/",
          "height": 34
        }
      },
      "cell_type": "code",
      "source": [
        "from google.colab import drive\n",
        "from google.colab import files\n",
        "drive.mount('/content/gdrive')\n",
        "import pickle\n",
        "import matplotlib.pyplot as plt\n",
        "import matplotlib.patches as mpatches\n",
        "import matplotlib.image as mpimg\n",
        "import numpy as np\n",
        "from sklearn.decomposition import PCA\n",
        "from sklearn.metrics.pairwise import euclidean_distances\n",
        "import pandas as pd\n",
        "import scipy as sp\n",
        "from sklearn.preprocessing import StandardScaler\n",
        "from sklearn.cluster import KMeans\n",
        "from sklearn.ensemble import RandomForestClassifier\n",
        "from sklearn.model_selection import train_test_split\n",
        "from skimage.util.shape import view_as_windows\n",
        "import glob"
      ],
      "execution_count": 36,
      "outputs": [
        {
          "output_type": "stream",
          "text": [
            "Drive already mounted at /content/gdrive; to attempt to forcibly remount, call drive.mount(\"/content/gdrive\", force_remount=True).\n"
          ],
          "name": "stdout"
        }
      ]
    },
    {
      "metadata": {
        "id": "0LWIoS3rYUEi",
        "colab_type": "code",
        "colab": {}
      },
      "cell_type": "code",
      "source": [
        "activities = ['brush_teeth','drink_glass','climb_stairs','pour_water',\n",
        "          'use_telephone','eat_meat','walk','comb_hair','eat_soup',\n",
        "          'descend_stairs','getup_bed','sitdown_chair','liedown_bed','standup_chair']\n",
        "\n",
        "def segment_file(d_input,w):\n",
        "  window_shape = (32,3)  \n",
        "  c = view_as_windows(d_input.values,window_shape)\n",
        "  d = c[:w,:,:]\n",
        "  return pd.DataFrame(d.reshape(w,96))\n",
        "\n",
        "def loadall_and_slice(w):\n",
        "  df = pd.DataFrame()\n",
        "  fid = 0\n",
        "  feature = 0\n",
        "  for fol in activities:\n",
        "      print (fol)\n",
        "      file_path = glob.glob('/content/gdrive/''My Drive''/aml-homeworks/homework5/HMP_Dataset/' + fol + '/*.txt')\n",
        "      for file in file_path:\n",
        "          temp_df=pd.read_csv(file, sep = \" \", names=['a','b','c'])\n",
        "          slice_df = segment_file(temp_df,w)\n",
        "          slice_df['fid'] = fid\n",
        "          slice_df['feature'] = feature\n",
        "          df = df.append(slice_df) \n",
        "          fid += 1\n",
        "      feature += 1\n",
        "  return df\n",
        "\n",
        "def compute_kmeans(k,df_input):\n",
        "  return KMeans(n_clusters=k, random_state=0).fit(df_input.values[:,:96])\n",
        "\n",
        "def compute_feature_vector(df_input,kmeans,k):\n",
        "  unq = np.unique(kmeans.predict(df_input),return_counts=True)\n",
        "  a = np.zeros((k,), dtype=int)\n",
        "  for i in range(len(unq[1])):\n",
        "    a[t[0][i]] = t[1][i]\n",
        "  return a  \n",
        "\n",
        "def plot_hist(feature):\n",
        "  plt.bar(range(len(feature)), feature, width=5, label='0')\n",
        "  plt.show()\n",
        "  \n",
        "  \n",
        "\n",
        "##################################################################################\n",
        "def train_and_predict(train,test,k):\n",
        "  clf = RandomForestClassifier(n_estimator=10,max_depth=4,random_state=0)\n",
        "  clf.fit(train[:,:k],train[:,-1])\n",
        "  return clf.predict(test[:,:k])\n",
        "\n",
        "def label_race(row):\n",
        "  if row[0] == row[1]:\n",
        "    return 1\n",
        "  else:\n",
        "    return 0\n",
        "\n",
        "def compute_acc(df_original,df_predict):\n",
        "  d = df_original.join(df_predict)\n",
        "  d2 = d.apply (lambda row: label_race(row),axis=1)\n",
        "  return d2[[1]].sum()/len(d2)\n",
        "  \n",
        "def consufion_matrix(df_original,df_predict):\n",
        "  return pd.crosstab(df_original['Activities'], df_predict, rownames=['Actual Activities'], colnames=['Predicted Activities'])\n",
        "   \n",
        "def main_compute(k,w):\n",
        "  total_df = loadall_and_slice(w)\n",
        "  kmeans = compute_kmeans(k,total_df)\n",
        "  #TODO: for each file - doing it for only 1 - need 32X32 sample here as well\n",
        "  feature_vector = compute_feature_vector(df,kmeans)\n",
        "  #2 - is index of climb_stairs in activies array - need code to dynamically index this.\n",
        "  final_features = np.append(feature_vector,2)\n",
        "  #TODO:\n",
        "  #for each label(eg brush_teeth)\n",
        "  train,test = train_test_split(final_features,test_size=0.33, random_state=10)\n",
        "  predict  =  train_and_predict(train,test,k) "
      ],
      "execution_count": 0,
      "outputs": []
    },
    {
      "metadata": {
        "id": "bNaNwxESDCkD",
        "colab_type": "code",
        "colab": {}
      },
      "cell_type": "code",
      "source": [
        "df = pd.read_csv('/content/gdrive/''My Drive''/aml-homeworks/homework5/HMP_Dataset/climb_stairs/Accelerometer-2011-03-24-10-24-39-climb_stairs-f1.txt',delim_whitespace=True)\n"
      ],
      "execution_count": 0,
      "outputs": []
    },
    {
      "metadata": {
        "id": "Mm1SglvaD4HK",
        "colab_type": "code",
        "colab": {}
      },
      "cell_type": "code",
      "source": [
        "# def segment_file(d_input,w):\n",
        "#   window_shape = (32,3)  \n",
        "#   c = view_as_windows(d_input.values,window_shape)\n",
        "#   d = c[:w,:,:]\n",
        "#   return d.reshape(w,96)"
      ],
      "execution_count": 0,
      "outputs": []
    },
    {
      "metadata": {
        "id": "mO-dYQNIEGZ7",
        "colab_type": "code",
        "outputId": "ce4ae651-5942-4e0c-b7dd-68933121669d",
        "colab": {
          "base_uri": "https://localhost:8080/",
          "height": 136
        }
      },
      "cell_type": "code",
      "source": [
        "d.reshape(32,96)"
      ],
      "execution_count": 30,
      "outputs": [
        {
          "output_type": "execute_result",
          "data": {
            "text/plain": [
              "array([[ 2, 41, 34, ..., 18, 35, 35],\n",
              "       [ 5, 39, 34, ..., 18, 36, 37],\n",
              "       [12, 38, 34, ..., 17, 37, 35],\n",
              "       ...,\n",
              "       [14, 33, 32, ..., 15, 36, 30],\n",
              "       [16, 35, 35, ..., 13, 38, 33],\n",
              "       [18, 35, 35, ..., 13, 39, 32]])"
            ]
          },
          "metadata": {
            "tags": []
          },
          "execution_count": 30
        }
      ]
    },
    {
      "metadata": {
        "id": "ex9PNGPnUeeN",
        "colab_type": "code",
        "colab": {}
      },
      "cell_type": "code",
      "source": [
        ""
      ],
      "execution_count": 0,
      "outputs": []
    },
    {
      "metadata": {
        "id": "c809Y2E_QZJn",
        "colab_type": "code",
        "colab": {
          "base_uri": "https://localhost:8080/",
          "height": 255
        },
        "outputId": "858064c6-d4d4-4aa0-e93b-0cdefcbef082"
      },
      "cell_type": "code",
      "source": [
        "d1 = loadall_and_slice(32)\n",
        "#len(d1)"
      ],
      "execution_count": 93,
      "outputs": [
        {
          "output_type": "stream",
          "text": [
            "brush_teeth\n",
            "drink_glass\n",
            "climb_stairs\n",
            "pour_water\n",
            "use_telephone\n",
            "eat_meat\n",
            "walk\n",
            "comb_hair\n",
            "eat_soup\n",
            "descend_stairs\n",
            "getup_bed\n",
            "sitdown_chair\n",
            "liedown_bed\n",
            "standup_chair\n"
          ],
          "name": "stdout"
        }
      ]
    },
    {
      "metadata": {
        "id": "bZk7MQAxQeNu",
        "colab_type": "code",
        "colab": {}
      },
      "cell_type": "code",
      "source": [
        "km = compute_kmeans(480,d1)"
      ],
      "execution_count": 0,
      "outputs": []
    },
    {
      "metadata": {
        "id": "aD6B21kLefhe",
        "colab_type": "code",
        "colab": {
          "base_uri": "https://localhost:8080/",
          "height": 68
        },
        "outputId": "37bc86a7-80b0-4872-836e-ae98fc94bbbc"
      },
      "cell_type": "code",
      "source": [
        "km\n",
        "# d_t = segment_file(df,32)\n",
        "# d_t\n"
      ],
      "execution_count": 99,
      "outputs": [
        {
          "output_type": "execute_result",
          "data": {
            "text/plain": [
              "KMeans(algorithm='auto', copy_x=True, init='k-means++', max_iter=300,\n",
              "    n_clusters=480, n_init=10, n_jobs=None, precompute_distances='auto',\n",
              "    random_state=0, tol=0.0001, verbose=0)"
            ]
          },
          "metadata": {
            "tags": []
          },
          "execution_count": 99
        }
      ]
    },
    {
      "metadata": {
        "id": "jJciTqQFfPdQ",
        "colab_type": "code",
        "colab": {}
      },
      "cell_type": "code",
      "source": [
        "f_v = compute_feature_vector(d_t,km,480)\n"
      ],
      "execution_count": 0,
      "outputs": []
    },
    {
      "metadata": {
        "id": "ftFQtPzxf0UA",
        "colab_type": "code",
        "colab": {
          "base_uri": "https://localhost:8080/",
          "height": 51
        },
        "outputId": "2ac133e4-f875-4d68-8666-fd379b88cfce"
      },
      "cell_type": "code",
      "source": [
        "t = np.unique(f_v,return_counts=True)\n",
        "t"
      ],
      "execution_count": 68,
      "outputs": [
        {
          "output_type": "execute_result",
          "data": {
            "text/plain": [
              "(array([ 12,  40,  83,  98, 100, 112, 137, 149, 232, 258, 259, 301, 469],\n",
              "       dtype=int32), array([2, 2, 2, 2, 2, 4, 2, 2, 2, 4, 3, 2, 3]))"
            ]
          },
          "metadata": {
            "tags": []
          },
          "execution_count": 68
        }
      ]
    },
    {
      "metadata": {
        "id": "74xQ3T6ugNq0",
        "colab_type": "code",
        "colab": {
          "base_uri": "https://localhost:8080/",
          "height": 347
        },
        "outputId": "7c27dfeb-dbda-4aba-c0cf-96549b207a25"
      },
      "cell_type": "code",
      "source": [
        "plot_hist(f_v)"
      ],
      "execution_count": 102,
      "outputs": [
        {
          "output_type": "display_data",
          "data": {
            "image/png": "[encoded data removed]",
            "text/plain": [
              "<Figure size 576x396 with 1 Axes>"
            ]
          },
          "metadata": {
            "tags": []
          }
        }
      ]
    },
    {
      "metadata": {
        "id": "kzGOsTkIjBOx",
        "colab_type": "code",
        "colab": {}
      },
      "cell_type": "code",
      "source": [
        ""
      ],
      "execution_count": 0,
      "outputs": []
    }
  ]
}