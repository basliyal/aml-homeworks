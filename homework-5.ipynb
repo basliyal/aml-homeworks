{
  "nbformat": 4,
  "nbformat_minor": 0,
  "metadata": {
    "colab": {
      "name": "Untitled4.ipynb",
      "version": "0.3.2",
      "provenance": [],
      "include_colab_link": true
    },
    "kernelspec": {
      "name": "python2",
      "display_name": "Python 2"
    }
  },
  "cells": [
    {
      "cell_type": "markdown",
      "metadata": {
        "id": "view-in-github",
        "colab_type": "text"
      },
      "source": [
        "<a href=\"https://colab.research.google.com/github/ashwinamrutphale/aml-homeworks/blob/master/homework-5.ipynb\" target=\"_parent\"><img src=\"https://colab.research.google.com/assets/colab-badge.svg\" alt=\"Open In Colab\"/></a>"
      ]
    },
    {
      "metadata": {
        "id": "gMxDP3XIXqhU",
        "colab_type": "code",
        "outputId": "eaf3c66a-9484-4272-ea9c-dc22c413e641",
        "colab": {
          "base_uri": "https://localhost:8080/",
          "height": 54
        }
      },
      "cell_type": "code",
      "source": [
        "from google.colab import drive\n",
        "from google.colab import files\n",
        "drive.mount('/content/gdrive')\n",
        "import pickle\n",
        "import matplotlib.pyplot as plt\n",
        "import matplotlib.patches as mpatches\n",
        "import matplotlib.image as mpimg\n",
        "import numpy as np\n",
        "from sklearn.decomposition import PCA\n",
        "from sklearn.metrics.pairwise import euclidean_distances\n",
        "import pandas as pd\n",
        "import scipy as sp\n",
        "from sklearn.preprocessing import StandardScaler\n",
        "from sklearn.cluster import KMeans\n",
        "from sklearn.ensemble import RandomForestClassifier\n",
        "from sklearn.model_selection import train_test_split\n"
      ],
      "execution_count": 9,
      "outputs": [
        {
          "output_type": "stream",
          "text": [
            "Drive already mounted at /content/gdrive; to attempt to forcibly remount, call drive.mount(\"/content/gdrive\", force_remount=True).\n"
          ],
          "name": "stdout"
        }
      ]
    },
    {
      "metadata": {
        "id": "0LWIoS3rYUEi",
        "colab_type": "code",
        "colab": {}
      },
      "cell_type": "code",
      "source": [
        "activities = ['brush_teeth','drink_glass','climb_stairs','pour_water',\n",
        "          'use_telephone','eat_meat','walk','comb_hair','eat_soup',\n",
        "          'descend_stairs','getup_bed','sitdown_chair','liedown_bed','standup_chair']\n",
        "\n",
        "def compute_kmeans(k,df_input):\n",
        "  return KMeans(n_clusters=k, random_state=0).fit(df_input)\n",
        "\n",
        "def compute_feature_vector(df_input,kmeans):\n",
        "  return np.unique(kmeans.predict(df_input),return_counts=True)[1]\n",
        "\n",
        "def train_and_predict(train,test,k):\n",
        "  clf = RandomForestClassifier(n_estimator=10,max_depth=4,random_state=0)\n",
        "  clf.fit(train[:,:k],train[:,-1])\n",
        "  return clf.predict(test[:,:k])\n",
        "\n",
        "def loadall_and_slice(w):\n",
        "  #TODO:ogic to load all files and return sliced in 32 x 32\n",
        "  return df\n",
        "\n",
        "def label_race(row):\n",
        "  if row[0] == row[1]:\n",
        "    return 1\n",
        "  else:\n",
        "    return 0\n",
        "\n",
        "def compute_acc(df_original,df_predict):\n",
        "  d = df_original.join(df_predict)\n",
        "  d2 = d.apply (lambda row: label_race(row),axis=1)\n",
        "  return d2[[1]].sum()/len(d2)\n",
        "  \n",
        "def consufion_matrix(df_original,df_predict):\n",
        "  return pd.crosstab(df_original['Activities'], df_predict, rownames=['Actual Activities'], colnames=['Predicted Activities'])\n",
        "\n",
        "  \n",
        "   \n",
        "def main_compute(k,w):\n",
        "  total_df = loadall_and_slice(w)\n",
        "  kmeans = compute_kmeans(k,total_df)\n",
        "  #TODO: for each file - doing it for only 1 - need 32X32 sample here as well\n",
        "  feature_vector = compute_feature_vector(df,kmeans)\n",
        "  #2 - is index of climb_stairs in activies array - need code to dynamically index this.\n",
        "  final_features = np.append(feature_vector,2)\n",
        "  #TODO:\n",
        "  #for each label(eg brush_teeth)\n",
        "  train,test = train_test_split(final_features,test_size=0.33, random_state=10)\n",
        "  predict  =  train_and_predict(train,test,k) \n",
        "  \n",
        "\n",
        "  \n",
        "  \n",
        "  \n",
        "  \n",
        "\n",
        "  \n",
        "  \n",
        "\n"
      ],
      "execution_count": 0,
      "outputs": []
    },
    {
      "metadata": {
        "id": "bNaNwxESDCkD",
        "colab_type": "code",
        "colab": {}
      },
      "cell_type": "code",
      "source": [
        "df = pd.read_csv('/content/gdrive/''My Drive''/aml-homeworks/homework5/Accelerometer-2011-03-24-10-24-39-climb_stairs-f1.txt',delim_whitespace=True)\n"
      ],
      "execution_count": 0,
      "outputs": []
    },
    {
      "metadata": {
        "id": "Mm1SglvaD4HK",
        "colab_type": "code",
        "outputId": "a75045c9-abda-435a-89c6-12d07ad1b1c0",
        "colab": {
          "base_uri": "https://localhost:8080/",
          "height": 34
        }
      },
      "cell_type": "code",
      "source": [
        "f = compute_feature_vector(df,compute_kmeans(5,df))\n",
        "f\n",
        "#np.unique(f, return_counts=True)[1]"
      ],
      "execution_count": 0,
      "outputs": [
        {
          "output_type": "execute_result",
          "data": {
            "text/plain": [
              "array([56, 39, 45, 54, 75])"
            ]
          },
          "metadata": {
            "tags": []
          },
          "execution_count": 23
        }
      ]
    },
    {
      "metadata": {
        "id": "mO-dYQNIEGZ7",
        "colab_type": "code",
        "outputId": "845dfd5b-ca3b-4ada-9de9-56a20618d77f",
        "colab": {
          "base_uri": "https://localhost:8080/",
          "height": 34
        }
      },
      "cell_type": "code",
      "source": [
        "len(activities)"
      ],
      "execution_count": 0,
      "outputs": [
        {
          "output_type": "execute_result",
          "data": {
            "text/plain": [
              "14"
            ]
          },
          "metadata": {
            "tags": []
          },
          "execution_count": 30
        }
      ]
    },
    {
      "metadata": {
        "id": "ex9PNGPnUeeN",
        "colab_type": "code",
        "colab": {}
      },
      "cell_type": "code",
      "source": [
        ""
      ],
      "execution_count": 0,
      "outputs": []
    }
  ]
}