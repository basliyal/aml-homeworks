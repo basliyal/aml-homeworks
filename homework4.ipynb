{
  "nbformat": 4,
  "nbformat_minor": 0,
  "metadata": {
    "colab": {
      "name": "homework4.ipynb",
      "version": "0.3.2",
      "provenance": [],
      "include_colab_link": true
    },
    "kernelspec": {
      "name": "python3",
      "display_name": "Python 3"
    }
  },
  "cells": [
    {
      "cell_type": "markdown",
      "metadata": {
        "id": "view-in-github",
        "colab_type": "text"
      },
      "source": [
        "<a href=\"https://colab.research.google.com/github/ashwinamrutphale/aml-homeworks/blob/master/homework4.ipynb\" target=\"_parent\"><img src=\"https://colab.research.google.com/assets/colab-badge.svg\" alt=\"Open In Colab\"/></a>"
      ]
    },
    {
      "metadata": {
        "id": "fTy0e1VgHYgk",
        "colab_type": "code",
        "colab": {
          "base_uri": "https://localhost:8080/",
          "height": 34
        },
        "outputId": "e8fbabf6-aee1-472f-e688-3e3c116f2f33"
      },
      "cell_type": "code",
      "source": [
        "from google.colab import drive\n",
        "from google.colab import files\n",
        "drive.mount('/content/gdrive')\n",
        "import pickle\n",
        "import matplotlib.pyplot as plt\n",
        "import matplotlib.patches as mpatches\n",
        "import matplotlib.image as mpimg\n",
        "import numpy as np\n",
        "from sklearn.decomposition import PCA"
      ],
      "execution_count": 89,
      "outputs": [
        {
          "output_type": "stream",
          "text": [
            "Drive already mounted at /content/gdrive; to attempt to forcibly remount, call drive.mount(\"/content/gdrive\", force_remount=True).\n"
          ],
          "name": "stdout"
        }
      ]
    },
    {
      "metadata": {
        "id": "CySYIlFJHkXH",
        "colab_type": "code",
        "colab": {}
      },
      "cell_type": "code",
      "source": [
        "def unpickle(file):\n",
        "    import pickle\n",
        "    with open(file, 'rb') as fo:\n",
        "        dict = pickle.load(fo, encoding='bytes')\n",
        "    return dict\n",
        "\n",
        "def plot_CIFAR(input):\n",
        "    R = input[0:1024].reshape(32,32)/255.0\n",
        "    G = input[1024:2048].reshape(32,32)/255.0\n",
        "    B = input[2048:].reshape(32,32)/255.0\n",
        "    img = np.dstack((R,G,B))\n",
        "    fig = plt.figure(figsize=(3,3))\n",
        "    ax = fig.add_subplot(111)\n",
        "    ax.imshow(img,interpolation='bicubic')\n",
        "\n",
        "def sort_images(dict_input):\n",
        "  index = 0\n",
        "  for val in dict_input[b'data']:\n",
        "    label = dict_input[b'labels'][index]\n",
        "    r_idx = result_index[label]\n",
        "    images[label][r_idx] = val\n",
        "    index = index  +1\n",
        "    result_index[label]  = result_index[label] +1\n",
        "\n",
        "def get_mean_images():\n",
        "  idx = 0\n",
        "  for im in images:\n",
        "    mean_images[idx]  = np.mean(im, axis=0)\n",
        "    idx +=1\n",
        "    \n",
        "def plot_mean_images():\n",
        "  for mi in mean_images:\n",
        "    plot_CIFAR(mi[0])\n",
        "    \n",
        "def pca_errror():\n",
        "  indx = 0\n",
        "  for imgs in images:\n",
        "    pca = PCA(n_components=20)\n",
        "    pca.fit(imgs)\n",
        "    imgs_pca = pca.transform(imgs)\n",
        "    imgs_projected = pca.inverse_transform(imgs_pca)\n",
        "    loss = np.mean(np.sum(((imgs - imgs_projected)**2),axis=1))\n",
        "    loss_sum[indx] = loss\n",
        "    indx +=1\n",
        "\n",
        "def plot_error_bar():\n",
        "  plt.bar(class_names, loss_sum, align='center', alpha=0.5)\n",
        "  plt.xlabel('Image Class', fontsize=10)\n",
        "  plt.ylabel('Loss', fontsize=10)\n",
        "  plt.xticks(class_names, fontsize=10, rotation=30)\n",
        "  plt.show()\n",
        "  \n",
        "\n",
        "    "
      ],
      "execution_count": 0,
      "outputs": []
    },
    {
      "metadata": {
        "id": "V49OAjTcH729",
        "colab_type": "code",
        "colab": {}
      },
      "cell_type": "code",
      "source": [
        "dict_1 = unpickle('/content/gdrive/''My Drive''/aml-homeworks/homework4/data_batch_1')\n",
        "dict_2 = unpickle('/content/gdrive/''My Drive''/aml-homeworks/homework4/data_batch_2')\n",
        "dict_3 = unpickle('/content/gdrive/''My Drive''/aml-homeworks/homework4/data_batch_3')\n",
        "dict_4 = unpickle('/content/gdrive/''My Drive''/aml-homeworks/homework4/data_batch_4')\n",
        "dict_5 = unpickle('/content/gdrive/''My Drive''/aml-homeworks/homework4/data_batch_5')\n",
        "dict_test = unpickle('/content/gdrive/''My Drive''/aml-homeworks/homework4/test_batch')"
      ],
      "execution_count": 0,
      "outputs": []
    },
    {
      "metadata": {
        "id": "yQ6RfcZLIYAl",
        "colab_type": "code",
        "colab": {}
      },
      "cell_type": "code",
      "source": [
        "\n",
        "\n",
        "images = np.zeros([10,6000,3072])\n",
        "result_index = np.zeros([10]).astype(int)\n",
        "\n",
        "sort_images(dict_1)\n",
        "sort_images(dict_2)\n",
        "sort_images(dict_3)\n",
        "sort_images(dict_4)\n",
        "sort_images(dict_5)\n",
        "sort_images(dict_test)\n",
        "\n",
        "mean_images = np.zeros([10,1,3072])\n",
        "\n",
        "get_mean_images()\n",
        "plot_mean_images()    "
      ],
      "execution_count": 0,
      "outputs": []
    },
    {
      "metadata": {
        "id": "cdAwft82Ir0s",
        "colab_type": "code",
        "colab": {}
      },
      "cell_type": "code",
      "source": [
        "\n",
        "class_names = np.array(['airplane','automobile','bird','cat','deer','dog','frog','horse','ship','truck'])\n",
        "loss_sum = np.zeros(10)\n",
        "pca_errror()\n",
        "plot_error_bar()\n",
        "#plot_error_bar()\n"
      ],
      "execution_count": 0,
      "outputs": []
    },
    {
      "metadata": {
        "id": "MnLZibg394Yz",
        "colab_type": "code",
        "colab": {
          "base_uri": "https://localhost:8080/",
          "height": 384
        },
        "outputId": "570bba6f-ff3e-4a53-8882-1e9e3380b226"
      },
      "cell_type": "code",
      "source": [
        "#loss_sum\n"
      ],
      "execution_count": 116,
      "outputs": [
        {
          "output_type": "display_data",
          "data": {
            "image/png": "[encoded data removed]",
            "text/plain": [
              "<Figure size 576x396 with 1 Axes>"
            ]
          },
          "metadata": {
            "tags": []
          }
        }
      ]
    },
    {
      "metadata": {
        "id": "JzYqmgHnAVtS",
        "colab_type": "code",
        "colab": {}
      },
      "cell_type": "code",
      "source": [
        ""
      ],
      "execution_count": 0,
      "outputs": []
    }
  ]
}